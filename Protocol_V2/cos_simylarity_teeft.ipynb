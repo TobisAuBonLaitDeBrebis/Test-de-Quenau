{
 "cells": [
  {
   "cell_type": "code",
   "execution_count": 83,
   "metadata": {
    "collapsed": true
   },
   "outputs": [],
   "source": [
    "import numpy as np\n",
    "import pandas as pd\n",
    "from spacy.lang.fr.stop_words import STOP_WORDS"
   ]
  },
  {
   "cell_type": "code",
   "execution_count": 84,
   "outputs": [
    {
     "data": {
      "text/plain": "   Unnamed: 0  Unnamed: 0.1               title  \\\n0           0             0          Notations.   \n1           1             1  En partie double.    \n2           2             2           Litotes.    \n3           3             3   Métaphoriquement.   \n4           4             4        Rétrograde.    \n\n                                               texte  \\\n0  Dans l'S, à une heure d'affluence. Un type dan...   \n1  Vers le milieu de la journée et à midi, je me ...   \n2  Nous étions quelques-uns à nous déplacer de co...   \n3  Au centre du jour, jeté dans le tas des sardin...   \n4  Tu devrais ajouter un bouton à ton pardessus, ...   \n\n                                       texte_keyword  \\\n0    vingt-six ans chapeau mou$ruban cou$place libre   \n1  terrasse arrière$jeune homme$vieil adolescent$...   \n2                            jeune homme$deux heures   \n3  sardines voyageuses$grosse carapace blanche$gr...   \n4        autre voyageur$jeune homme$chapeau ridicule   \n\n                                 keyword_without_ent  \\\n0    vingt-six$ans$chapeau$mou$ruban$cou$place$libre   \n1  terrasse$arrière$jeune$homme$vieil$adolescent$...   \n2                            jeune$homme$deux$heures   \n3  sardines$voyageuses$grosse$carapace$blanche$gr...   \n4        autre$voyageur$jeune$homme$chapeau$ridicule   \n\n                           keyword_without_stop_word  \\\n0    vingt-six$ans$chapeau$mou$ruban$cou$place$libre   \n1  terrasse$arrière$jeune$homme$vieil$adolescent$...   \n2                                 jeune$homme$heures   \n3  sardines$voyageuses$grosse$carapace$blanche$gr...   \n4              voyageur$jeune$homme$chapeau$ridicule   \n\n                              keywords_lematisations  \n0     vingt-six$an$chapeau$mou$ruban$cou$place$libre  \n1  terrasse$arrière$jeune$homme$vieux$adolescent$...  \n2                                  jeune$homme$heure  \n3  sardine$voyageur$gros$carapace$blanc$grand$cou...  \n4        autre$voyageur$jeune$homme$chapeau$ridicule  ",
      "text/html": "<div>\n<style scoped>\n    .dataframe tbody tr th:only-of-type {\n        vertical-align: middle;\n    }\n\n    .dataframe tbody tr th {\n        vertical-align: top;\n    }\n\n    .dataframe thead th {\n        text-align: right;\n    }\n</style>\n<table border=\"1\" class=\"dataframe\">\n  <thead>\n    <tr style=\"text-align: right;\">\n      <th></th>\n      <th>Unnamed: 0</th>\n      <th>Unnamed: 0.1</th>\n      <th>title</th>\n      <th>texte</th>\n      <th>texte_keyword</th>\n      <th>keyword_without_ent</th>\n      <th>keyword_without_stop_word</th>\n      <th>keywords_lematisations</th>\n    </tr>\n  </thead>\n  <tbody>\n    <tr>\n      <th>0</th>\n      <td>0</td>\n      <td>0</td>\n      <td>Notations.</td>\n      <td>Dans l'S, à une heure d'affluence. Un type dan...</td>\n      <td>vingt-six ans chapeau mou$ruban cou$place libre</td>\n      <td>vingt-six$ans$chapeau$mou$ruban$cou$place$libre</td>\n      <td>vingt-six$ans$chapeau$mou$ruban$cou$place$libre</td>\n      <td>vingt-six$an$chapeau$mou$ruban$cou$place$libre</td>\n    </tr>\n    <tr>\n      <th>1</th>\n      <td>1</td>\n      <td>1</td>\n      <td>En partie double.</td>\n      <td>Vers le milieu de la journée et à midi, je me ...</td>\n      <td>terrasse arrière$jeune homme$vieil adolescent$...</td>\n      <td>terrasse$arrière$jeune$homme$vieil$adolescent$...</td>\n      <td>terrasse$arrière$jeune$homme$vieil$adolescent$...</td>\n      <td>terrasse$arrière$jeune$homme$vieux$adolescent$...</td>\n    </tr>\n    <tr>\n      <th>2</th>\n      <td>2</td>\n      <td>2</td>\n      <td>Litotes.</td>\n      <td>Nous étions quelques-uns à nous déplacer de co...</td>\n      <td>jeune homme$deux heures</td>\n      <td>jeune$homme$deux$heures</td>\n      <td>jeune$homme$heures</td>\n      <td>jeune$homme$heure</td>\n    </tr>\n    <tr>\n      <th>3</th>\n      <td>3</td>\n      <td>3</td>\n      <td>Métaphoriquement.</td>\n      <td>Au centre du jour, jeté dans le tas des sardin...</td>\n      <td>sardines voyageuses$grosse carapace blanche$gr...</td>\n      <td>sardines$voyageuses$grosse$carapace$blanche$gr...</td>\n      <td>sardines$voyageuses$grosse$carapace$blanche$gr...</td>\n      <td>sardine$voyageur$gros$carapace$blanc$grand$cou...</td>\n    </tr>\n    <tr>\n      <th>4</th>\n      <td>4</td>\n      <td>4</td>\n      <td>Rétrograde.</td>\n      <td>Tu devrais ajouter un bouton à ton pardessus, ...</td>\n      <td>autre voyageur$jeune homme$chapeau ridicule</td>\n      <td>autre$voyageur$jeune$homme$chapeau$ridicule</td>\n      <td>voyageur$jeune$homme$chapeau$ridicule</td>\n      <td>autre$voyageur$jeune$homme$chapeau$ridicule</td>\n    </tr>\n  </tbody>\n</table>\n</div>"
     },
     "execution_count": 84,
     "metadata": {},
     "output_type": "execute_result"
    }
   ],
   "source": [
    "df = pd.read_csv(\"data/Keyword_with_teeft_queneau_frprotocol_V2.csv\")\n",
    "df.head()"
   ],
   "metadata": {
    "collapsed": false,
    "pycharm": {
     "name": "#%%\n"
    }
   }
  },
  {
   "cell_type": "code",
   "execution_count": 85,
   "outputs": [],
   "source": [
    "df=df.dropna()\n",
    "df=df.reset_index(drop=True)"
   ],
   "metadata": {
    "collapsed": false,
    "pycharm": {
     "name": "#%%\n"
    }
   }
  },
  {
   "cell_type": "code",
   "execution_count": 86,
   "outputs": [
    {
     "name": "stdout",
     "output_type": "stream",
     "text": [
      "489\n",
      "432\n",
      "459\n",
      "427\n"
     ]
    }
   ],
   "source": [
    "keys =[key for key in df.keys() if \"keyword\" in key]\n",
    "dict_matrice ={}\n",
    "for key in keys:\n",
    "    keywords = \"$\".join(df[key].tolist())\n",
    "\n",
    "    symbols = \"!\\\"#%&()*+-./:;<=>?@[\\]^_`{|}~\\n,.\"\n",
    "    for i in symbols:\n",
    "        keywords.replace(i,\" \")\n",
    "\n",
    "    transit_list_keywords=keywords.split('$')\n",
    "    list_keywords=list()\n",
    "    for keyword_list in transit_list_keywords:\n",
    "        for word in keyword_list.split(\" \"):\n",
    "            list_keywords.append(word)\n",
    "    #list_keywords=keywords.split(' ')\n",
    "    list_keywords=list(set(list_keywords))\n",
    "    #list_keywords = [word for word in list_keywords if len(word)>1]\n",
    "    list_keywords = list(set(list_keywords))\n",
    "    dict_matrice[key]=list_keywords\n",
    "\n",
    "\n",
    "for key in keys :\n",
    "    print(len(dict_matrice[key]))"
   ],
   "metadata": {
    "collapsed": false,
    "pycharm": {
     "name": "#%%\n"
    }
   }
  },
  {
   "cell_type": "code",
   "execution_count": 87,
   "outputs": [
    {
     "name": "stderr",
     "output_type": "stream",
     "text": [
      "c:\\users\\le muletier\\pycharmprojects\\test-de-quenaud\\venv\\lib\\site-packages\\sklearn\\utils\\deprecation.py:87: FutureWarning: Function get_feature_names is deprecated; get_feature_names is deprecated in 1.0 and will be removed in 1.2. Please use get_feature_names_out instead.\n",
      "  warnings.warn(msg, category=FutureWarning)\n",
      "c:\\users\\le muletier\\pycharmprojects\\test-de-quenaud\\venv\\lib\\site-packages\\sklearn\\feature_extraction\\text.py:1323: UserWarning: Upper case characters found in vocabulary while 'lowercase' is True. These entries will not be matched with any documents\n",
      "  \"Upper case characters found in\"\n"
     ]
    }
   ],
   "source": [
    "def mytokenizer(text):\n",
    "    return text.split()\n",
    "from sklearn.feature_extraction.text import CountVectorizer\n",
    "corpus=df[\"texte\"]\n",
    "dic_vectors = {}\n",
    "\n",
    "for key in keys:\n",
    "    vocab = dict_matrice[key]\n",
    "    vectorizer = CountVectorizer(vocabulary=vocab, tokenizer = mytokenizer)\n",
    "    X = vectorizer.fit_transform(corpus)\n",
    "    vectorizer.get_feature_names()\n",
    "    dic_vectors[key] =  X.toarray()\n",
    "\n"
   ],
   "metadata": {
    "collapsed": false,
    "pycharm": {
     "name": "#%%\n"
    }
   }
  },
  {
   "cell_type": "code",
   "execution_count": 88,
   "outputs": [],
   "source": [
    "from numpy.linalg import norm"
   ],
   "metadata": {
    "collapsed": false,
    "pycharm": {
     "name": "#%%\n"
    }
   }
  },
  {
   "cell_type": "code",
   "execution_count": 89,
   "outputs": [
    {
     "name": "stderr",
     "output_type": "stream",
     "text": [
      "c:\\users\\le muletier\\pycharmprojects\\test-de-quenaud\\venv\\lib\\site-packages\\ipykernel_launcher.py:7: RuntimeWarning: invalid value encountered in true_divide\n",
      "  import sys\n"
     ]
    }
   ],
   "source": [
    "\n",
    "df_corélations_cos= pd.DataFrame()\n",
    "\n",
    "\n",
    "for key in keys:\n",
    "    for index , vector in enumerate(dic_vectors[key]):\n",
    "        df_corélations_cos.loc[index,\"title\"]=df.loc[index,\"title\"]\n",
    "        df_corélations_cos.loc[index, \"teeft_corrélation_\"+str(key)] = np.dot(dic_vectors[key][0],vector)/(norm(dic_vectors[key][0])*norm(vector))\n",
    "\n"
   ],
   "metadata": {
    "collapsed": false,
    "pycharm": {
     "name": "#%%\n"
    }
   }
  },
  {
   "cell_type": "code",
   "execution_count": 90,
   "outputs": [
    {
     "data": {
      "text/plain": "                title  teeft_corrélation_texte_keyword  \\\n0          Notations.                         1.000000   \n1  En partie double.                          0.198030   \n2           Litotes.                          0.000000   \n3   Métaphoriquement.                         0.083333   \n4        Rétrograde.                          0.273861   \n\n   teeft_corrélation_keyword_without_ent  \\\n0                               1.000000   \n1                               0.201008   \n2                               0.000000   \n3                               0.083333   \n4                               0.273861   \n\n   teeft_corrélation_keyword_without_stop_word  \\\n0                                     1.000000   \n1                                     0.207390   \n2                                     0.000000   \n3                                     0.091287   \n4                                     0.288675   \n\n   teeft_corrélation_keywords_lematisations  \n0                                  1.000000  \n1                                  0.271052  \n2                                  0.178174  \n3                                  0.084515  \n4                                  0.267261  ",
      "text/html": "<div>\n<style scoped>\n    .dataframe tbody tr th:only-of-type {\n        vertical-align: middle;\n    }\n\n    .dataframe tbody tr th {\n        vertical-align: top;\n    }\n\n    .dataframe thead th {\n        text-align: right;\n    }\n</style>\n<table border=\"1\" class=\"dataframe\">\n  <thead>\n    <tr style=\"text-align: right;\">\n      <th></th>\n      <th>title</th>\n      <th>teeft_corrélation_texte_keyword</th>\n      <th>teeft_corrélation_keyword_without_ent</th>\n      <th>teeft_corrélation_keyword_without_stop_word</th>\n      <th>teeft_corrélation_keywords_lematisations</th>\n    </tr>\n  </thead>\n  <tbody>\n    <tr>\n      <th>0</th>\n      <td>Notations.</td>\n      <td>1.000000</td>\n      <td>1.000000</td>\n      <td>1.000000</td>\n      <td>1.000000</td>\n    </tr>\n    <tr>\n      <th>1</th>\n      <td>En partie double.</td>\n      <td>0.198030</td>\n      <td>0.201008</td>\n      <td>0.207390</td>\n      <td>0.271052</td>\n    </tr>\n    <tr>\n      <th>2</th>\n      <td>Litotes.</td>\n      <td>0.000000</td>\n      <td>0.000000</td>\n      <td>0.000000</td>\n      <td>0.178174</td>\n    </tr>\n    <tr>\n      <th>3</th>\n      <td>Métaphoriquement.</td>\n      <td>0.083333</td>\n      <td>0.083333</td>\n      <td>0.091287</td>\n      <td>0.084515</td>\n    </tr>\n    <tr>\n      <th>4</th>\n      <td>Rétrograde.</td>\n      <td>0.273861</td>\n      <td>0.273861</td>\n      <td>0.288675</td>\n      <td>0.267261</td>\n    </tr>\n  </tbody>\n</table>\n</div>"
     },
     "execution_count": 90,
     "metadata": {},
     "output_type": "execute_result"
    }
   ],
   "source": [
    "df_corélations_cos.head()"
   ],
   "metadata": {
    "collapsed": false,
    "pycharm": {
     "name": "#%%\n"
    }
   }
  },
  {
   "cell_type": "code",
   "execution_count": 91,
   "outputs": [],
   "source": [
    "df_corélations_cos.to_csv(\"results/result_teeft_correlation.csv\")"
   ],
   "metadata": {
    "collapsed": false,
    "pycharm": {
     "name": "#%%\n"
    }
   }
  },
  {
   "cell_type": "code",
   "execution_count": 91,
   "outputs": [],
   "source": [],
   "metadata": {
    "collapsed": false,
    "pycharm": {
     "name": "#%%\n"
    }
   }
  }
 ],
 "metadata": {
  "kernelspec": {
   "display_name": "Python 3",
   "language": "python",
   "name": "python3"
  },
  "language_info": {
   "codemirror_mode": {
    "name": "ipython",
    "version": 2
   },
   "file_extension": ".py",
   "mimetype": "text/x-python",
   "name": "python",
   "nbconvert_exporter": "python",
   "pygments_lexer": "ipython2",
   "version": "2.7.6"
  }
 },
 "nbformat": 4,
 "nbformat_minor": 0
}