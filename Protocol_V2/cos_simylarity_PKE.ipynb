{
 "cells": [
  {
   "cell_type": "code",
   "execution_count": 59,
   "metadata": {
    "collapsed": true
   },
   "outputs": [],
   "source": [
    "import numpy as np\n",
    "import pandas as pd\n",
    "from spacy.lang.fr.stop_words import STOP_WORDS"
   ]
  },
  {
   "cell_type": "code",
   "execution_count": 60,
   "outputs": [
    {
     "name": "stdout",
     "output_type": "stream",
     "text": [
      "bonjour\n"
     ]
    }
   ],
   "source": [
    "print(\"bonjour\")"
   ],
   "metadata": {
    "collapsed": false,
    "pycharm": {
     "name": "#%%\n"
    }
   }
  },
  {
   "cell_type": "code",
   "execution_count": 61,
   "outputs": [
    {
     "data": {
      "text/plain": "   Unnamed: 0               title  \\\n0           0          Notations.   \n1           1  En partie double.    \n2           2           Litotes.    \n3           3   Métaphoriquement.   \n4           4        Rétrograde.    \n\n                                               texte  \\\n0  Dans l'S, à une heure d'affluence. Un type dan...   \n1  Vers le milieu de la journée et à midi, je me ...   \n2  Nous étions quelques-uns à nous déplacer de co...   \n3  Au centre du jour, jeté dans le tas des sardin...   \n4  Tu devrais ajouter un bouton à ton pardessus, ...   \n\n                                       texte_keyword  \\\n0  type$ans$chapeau$cordon$question$ruban$affluen...   \n1  ligne s$transports$place$sort$fois qu'on$minut...   \n2  jeune homme$air$instants$compagnie$camarade$mo...   \n3  grosse carapace$grand cou$morne désert$jour$ai...   \n4  jeune homme$plate-forme$chapeau$place$midi$por...   \n\n                                 keyword_without_ent  \\\n0  type$ans$chapeau$cordon$question$ruban$affluen...   \n1  s$transports$place$sort$fois$qu'on$minutes$rev...   \n2  jeune$homme$air$instants$compagnie$camarade$mo...   \n3  grosse$carapace$grand$cou$morne$désert$jour$ai...   \n4  jeune$homme$plate-forme$chapeau$place$midi$por...   \n\n                           keyword_without_stop_word  \\\n0  type$ans$chapeau$cordon$question$ruban$affluen...   \n1  ligne$s$transports$place$sort$fois$qu'on$minut...   \n2  jeune$homme$air$instants$compagnie$camarade$mo...   \n3  grosse$carapace$grand$cou$morne$désert$jour$ai...   \n4  jeune$homme$plate-forme$chapeau$place$midi$por...   \n\n                              keywords_lematisations  \n0  heure$affluence$type$an$chapeau$cordon$ruban$c...  \n1  terrasse$arrière$véhicule$transport$ligne$fois...  \n2  jeune$homme$air$instant$Monsieur$côté$heure$co...  \n3  jour$tas$sardine$gros$carapace$poulet$grand$co...  \n4  avidité$place$fois$jeune$homme$porteur$chapeau...  ",
      "text/html": "<div>\n<style scoped>\n    .dataframe tbody tr th:only-of-type {\n        vertical-align: middle;\n    }\n\n    .dataframe tbody tr th {\n        vertical-align: top;\n    }\n\n    .dataframe thead th {\n        text-align: right;\n    }\n</style>\n<table border=\"1\" class=\"dataframe\">\n  <thead>\n    <tr style=\"text-align: right;\">\n      <th></th>\n      <th>Unnamed: 0</th>\n      <th>title</th>\n      <th>texte</th>\n      <th>texte_keyword</th>\n      <th>keyword_without_ent</th>\n      <th>keyword_without_stop_word</th>\n      <th>keywords_lematisations</th>\n    </tr>\n  </thead>\n  <tbody>\n    <tr>\n      <th>0</th>\n      <td>0</td>\n      <td>Notations.</td>\n      <td>Dans l'S, à une heure d'affluence. Un type dan...</td>\n      <td>type$ans$chapeau$cordon$question$ruban$affluen...</td>\n      <td>type$ans$chapeau$cordon$question$ruban$affluen...</td>\n      <td>type$ans$chapeau$cordon$question$ruban$affluen...</td>\n      <td>heure$affluence$type$an$chapeau$cordon$ruban$c...</td>\n    </tr>\n    <tr>\n      <th>1</th>\n      <td>1</td>\n      <td>En partie double.</td>\n      <td>Vers le milieu de la journée et à midi, je me ...</td>\n      <td>ligne s$transports$place$sort$fois qu'on$minut...</td>\n      <td>s$transports$place$sort$fois$qu'on$minutes$rev...</td>\n      <td>ligne$s$transports$place$sort$fois$qu'on$minut...</td>\n      <td>terrasse$arrière$véhicule$transport$ligne$fois...</td>\n    </tr>\n    <tr>\n      <th>2</th>\n      <td>2</td>\n      <td>Litotes.</td>\n      <td>Nous étions quelques-uns à nous déplacer de co...</td>\n      <td>jeune homme$air$instants$compagnie$camarade$mo...</td>\n      <td>jeune$homme$air$instants$compagnie$camarade$mo...</td>\n      <td>jeune$homme$air$instants$compagnie$camarade$mo...</td>\n      <td>jeune$homme$air$instant$Monsieur$côté$heure$co...</td>\n    </tr>\n    <tr>\n      <th>3</th>\n      <td>3</td>\n      <td>Métaphoriquement.</td>\n      <td>Au centre du jour, jeté dans le tas des sardin...</td>\n      <td>grosse carapace$grand cou$morne désert$jour$ai...</td>\n      <td>grosse$carapace$grand$cou$morne$désert$jour$ai...</td>\n      <td>grosse$carapace$grand$cou$morne$désert$jour$ai...</td>\n      <td>jour$tas$sardine$gros$carapace$poulet$grand$co...</td>\n    </tr>\n    <tr>\n      <th>4</th>\n      <td>4</td>\n      <td>Rétrograde.</td>\n      <td>Tu devrais ajouter un bouton à ton pardessus, ...</td>\n      <td>jeune homme$plate-forme$chapeau$place$midi$por...</td>\n      <td>jeune$homme$plate-forme$chapeau$place$midi$por...</td>\n      <td>jeune$homme$plate-forme$chapeau$place$midi$por...</td>\n      <td>avidité$place$fois$jeune$homme$porteur$chapeau...</td>\n    </tr>\n  </tbody>\n</table>\n</div>"
     },
     "execution_count": 61,
     "metadata": {},
     "output_type": "execute_result"
    }
   ],
   "source": [
    "df = pd.read_csv(\"data/Keyword_with_PKE_queneau_frprotocol_V2.csv\")\n",
    "df.head()"
   ],
   "metadata": {
    "collapsed": false,
    "pycharm": {
     "name": "#%%\n"
    }
   }
  },
  {
   "cell_type": "code",
   "execution_count": 62,
   "outputs": [],
   "source": [
    "df=df.dropna()\n",
    "df=df.reset_index(drop=True)"
   ],
   "metadata": {
    "collapsed": false,
    "pycharm": {
     "name": "#%%\n"
    }
   }
  },
  {
   "cell_type": "code",
   "execution_count": 63,
   "outputs": [
    {
     "data": {
      "text/plain": "pandas.core.frame.DataFrame"
     },
     "execution_count": 63,
     "metadata": {},
     "output_type": "execute_result"
    }
   ],
   "source": [
    "type(df)"
   ],
   "metadata": {
    "collapsed": false,
    "pycharm": {
     "name": "#%%\n"
    }
   }
  },
  {
   "cell_type": "code",
   "execution_count": 64,
   "outputs": [
    {
     "name": "stdout",
     "output_type": "stream",
     "text": [
      "675\n",
      "671\n",
      "766\n",
      "679\n"
     ]
    }
   ],
   "source": [
    "keys =[key for key in df.keys() if \"keyword\" in key]\n",
    "dict_matrice ={}\n",
    "for key in keys:\n",
    "    keywords = \"$\".join(df[key].tolist())\n",
    "\n",
    "    symbols = \"!\\\"#%&()*+-./:;<=>?@[\\]^_`{|}~\\n,.\"\n",
    "    for i in symbols:\n",
    "        keywords.replace(i,\" \")\n",
    "\n",
    "    list_keywords=keywords.split('$')\n",
    "    list_keywords=list(set(list_keywords))\n",
    "    #list_keywords = [word for word in list_keywords if len(word)>1]\n",
    "    list_keywords = list(set(list_keywords))\n",
    "    dict_matrice[key]=list_keywords\n",
    "\n",
    "\n",
    "for key in keys :\n",
    "    print(len(dict_matrice[key]))"
   ],
   "metadata": {
    "collapsed": false,
    "pycharm": {
     "name": "#%%\n"
    }
   }
  },
  {
   "cell_type": "code",
   "execution_count": 65,
   "outputs": [
    {
     "name": "stderr",
     "output_type": "stream",
     "text": [
      "c:\\users\\le muletier\\pycharmprojects\\test-de-quenaud\\venv\\lib\\site-packages\\sklearn\\utils\\deprecation.py:87: FutureWarning: Function get_feature_names is deprecated; get_feature_names is deprecated in 1.0 and will be removed in 1.2. Please use get_feature_names_out instead.\n",
      "  warnings.warn(msg, category=FutureWarning)\n",
      "c:\\users\\le muletier\\pycharmprojects\\test-de-quenaud\\venv\\lib\\site-packages\\sklearn\\feature_extraction\\text.py:1323: UserWarning: Upper case characters found in vocabulary while 'lowercase' is True. These entries will not be matched with any documents\n",
      "  \"Upper case characters found in\"\n"
     ]
    }
   ],
   "source": [
    "def mytokenizer(text):\n",
    "    return text.split()\n",
    "from sklearn.feature_extraction.text import CountVectorizer\n",
    "corpus=df[\"texte\"]\n",
    "dic_vectors = {}\n",
    "for key in keys:\n",
    "    vocab = dict_matrice[key]\n",
    "    vectorizer = CountVectorizer(vocabulary=vocab, tokenizer = mytokenizer)\n",
    "    X = vectorizer.fit_transform(corpus)\n",
    "    vectorizer.get_feature_names()\n",
    "    dic_vectors[key] =  X.toarray()\n",
    "\n"
   ],
   "metadata": {
    "collapsed": false,
    "pycharm": {
     "name": "#%%\n"
    }
   }
  },
  {
   "cell_type": "code",
   "execution_count": 66,
   "outputs": [],
   "source": [
    "from numpy.linalg import norm"
   ],
   "metadata": {
    "collapsed": false,
    "pycharm": {
     "name": "#%%\n"
    }
   }
  },
  {
   "cell_type": "code",
   "execution_count": 67,
   "outputs": [],
   "source": [
    "\n",
    "df_corélations_cos= pd.DataFrame()\n",
    "\n",
    "\n",
    "for key in keys:\n",
    "    for index , vector in enumerate(dic_vectors[key]):\n",
    "        df_corélations_cos.loc[index,\"title\"]=df.loc[index,\"title\"]\n",
    "        df_corélations_cos.loc[index, \"PKE_corrélation_\"+str(key)] = np.dot(dic_vectors[key][0],vector)/(norm(dic_vectors[key][0])*norm(vector))\n",
    "\n"
   ],
   "metadata": {
    "collapsed": false,
    "pycharm": {
     "name": "#%%\n"
    }
   }
  },
  {
   "cell_type": "code",
   "execution_count": 68,
   "outputs": [
    {
     "data": {
      "text/plain": "                title  PKE_corrélation_texte_keyword  \\\n0          Notations.                       1.000000   \n1  En partie double.                        0.202031   \n2           Litotes.                        0.000000   \n3   Métaphoriquement.                       0.094491   \n4        Rétrograde.                        0.296500   \n\n   PKE_corrélation_keyword_without_ent  \\\n0                             1.000000   \n1                             0.202777   \n2                             0.000000   \n3                             0.066815   \n4                             0.322749   \n\n   PKE_corrélation_keyword_without_stop_word  \\\n0                                   1.000000   \n1                                   0.183340   \n2                                   0.000000   \n3                                   0.074125   \n4                                   0.296500   \n\n   PKE_corrélation_keywords_lematisations  \n0                                1.000000  \n1                                0.301232  \n2                                0.172133  \n3                                0.086066  \n4                                0.298142  ",
      "text/html": "<div>\n<style scoped>\n    .dataframe tbody tr th:only-of-type {\n        vertical-align: middle;\n    }\n\n    .dataframe tbody tr th {\n        vertical-align: top;\n    }\n\n    .dataframe thead th {\n        text-align: right;\n    }\n</style>\n<table border=\"1\" class=\"dataframe\">\n  <thead>\n    <tr style=\"text-align: right;\">\n      <th></th>\n      <th>title</th>\n      <th>PKE_corrélation_texte_keyword</th>\n      <th>PKE_corrélation_keyword_without_ent</th>\n      <th>PKE_corrélation_keyword_without_stop_word</th>\n      <th>PKE_corrélation_keywords_lematisations</th>\n    </tr>\n  </thead>\n  <tbody>\n    <tr>\n      <th>0</th>\n      <td>Notations.</td>\n      <td>1.000000</td>\n      <td>1.000000</td>\n      <td>1.000000</td>\n      <td>1.000000</td>\n    </tr>\n    <tr>\n      <th>1</th>\n      <td>En partie double.</td>\n      <td>0.202031</td>\n      <td>0.202777</td>\n      <td>0.183340</td>\n      <td>0.301232</td>\n    </tr>\n    <tr>\n      <th>2</th>\n      <td>Litotes.</td>\n      <td>0.000000</td>\n      <td>0.000000</td>\n      <td>0.000000</td>\n      <td>0.172133</td>\n    </tr>\n    <tr>\n      <th>3</th>\n      <td>Métaphoriquement.</td>\n      <td>0.094491</td>\n      <td>0.066815</td>\n      <td>0.074125</td>\n      <td>0.086066</td>\n    </tr>\n    <tr>\n      <th>4</th>\n      <td>Rétrograde.</td>\n      <td>0.296500</td>\n      <td>0.322749</td>\n      <td>0.296500</td>\n      <td>0.298142</td>\n    </tr>\n  </tbody>\n</table>\n</div>"
     },
     "execution_count": 68,
     "metadata": {},
     "output_type": "execute_result"
    }
   ],
   "source": [
    "df_corélations_cos.head()"
   ],
   "metadata": {
    "collapsed": false,
    "pycharm": {
     "name": "#%%\n"
    }
   }
  },
  {
   "cell_type": "code",
   "execution_count": 69,
   "outputs": [],
   "source": [
    "df_corélations_cos.to_csv(\"results/result_pke_correlation.csv\")"
   ],
   "metadata": {
    "collapsed": false,
    "pycharm": {
     "name": "#%%\n"
    }
   }
  }
 ],
 "metadata": {
  "kernelspec": {
   "display_name": "Python 3",
   "language": "python",
   "name": "python3"
  },
  "language_info": {
   "codemirror_mode": {
    "name": "ipython",
    "version": 2
   },
   "file_extension": ".py",
   "mimetype": "text/x-python",
   "name": "python",
   "nbconvert_exporter": "python",
   "pygments_lexer": "ipython2",
   "version": "2.7.6"
  }
 },
 "nbformat": 4,
 "nbformat_minor": 0
}