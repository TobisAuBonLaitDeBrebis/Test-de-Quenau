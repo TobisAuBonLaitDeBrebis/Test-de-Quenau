{
 "cells": [
  {
   "cell_type": "code",
   "execution_count": 8,
   "metadata": {
    "collapsed": true
   },
   "outputs": [],
   "source": [
    "import pandas as pd\n",
    "from collections import Counter\n",
    "import plotly.graph_objects as go\n",
    "import plotly.express as px"
   ]
  },
  {
   "cell_type": "code",
   "execution_count": 9,
   "outputs": [
    {
     "data": {
      "text/plain": "               title                                               texte  \\\n0          Notations.  Dans l'S, à une heure d'affluence. Un type dan...   \n1  En partie double.   Vers le milieu de la journée et à midi, je me ...   \n2           Litotes.   Nous étions quelques-uns à nous déplacer de co...   \n3   Métaphoriquement.  Au centre du jour, jeté dans le tas des sardin...   \n4        Rétrograde.   Tu devrais ajouter un bouton à ton pardessus, ...   \n\n                                  texte_sans_entites  \\\n0  Dans l', à une heure d'affluence. Un type dans...   \n1  Vers le milieu de la journée et à midi, je me ...   \n2  Nous étions quelques-uns à nous déplacer de co...   \n3  Au centre du jour, jeté dans le tas des sardin...   \n4  Tu devrais ajouter un bouton à ton pardessus, ...   \n\n                              text_without_stop_word  \\\n0  S , heure affluence . type vingt-six ans , cha...   \n1  milieu journée midi , trouvai montai plate - f...   \n2  étions quelques-uns déplacer conserve . jeune ...   \n3  centre jour , jeté tas sardines voyageuses col...   \n4  devrais ajouter bouton pardessus , ami . renco...   \n\n                      texte_verbe_Adj_ADV_PROPN_NOUN  \\\n0  S , heure affluence . type ans , chapeau mou c...   \n1  milieu journée midi , trouvai montai plate - f...   \n2  étions déplacer conserve . jeune homme , n' av...   \n3  centre jour , jeté tas sardines voyageuses col...   \n4  devrais ajouter bouton ton pardessus , dit ami...   \n\n                   texteLem_verbe_Adj_ADV_PROPN_NOUN  \\\n0  s , heure affluence . type an , chapeau mou co...   \n1  milieu journée midi , trouver monter plate - f...   \n2  être déplacer conserve . jeune homme , n' avoi...   \n3  centre jour , jeter tas sardine voyageur coléo...   \n4  devoir ajouter bouton ton pardessus , dire ami...   \n\n                                       texte_keyword  \\\n0  type ans cordon chapeau question ruban voisin ...   \n1  sort ligne s transports place minutes terrasse...   \n2  jeune homme air instants compagnie camarade mo...   \n3  grosse carapace grand cou morne désert jour ai...   \n4  jeune homme chapeau porteur plate-forme place ...   \n\n                          texte_sans_entites_keyword  \\\n0  type ans chapeau cordon question ruban affluen...   \n1  sort transports véhicule terrasse arrière auto...   \n2  jeune homme air instants monsieur compagnie ca...   \n3  grosse carapace grand cou morne désert jour ai...   \n4  jeune homme chapeau porteur plate-forme place ...   \n\n                      text_without_stop_word_keyword  \\\n0  type question type mou cordon heure affluence ...   \n1  complet ligne s heures minutes place siège ter...   \n2  instants monsieur jeune homme compagnie camara...   \n3  voyageuses coléoptère grosse carapace poulet g...   \n4  décharné porteur chapeau forme s complet midi ...   \n\n              texte_verbe_Adj_ADV_PROPN_NOUN_keyword  \\\n0  type question type ans mou cordon heure afflue...   \n1  complet ligne s heures minutes place siège ter...   \n2  instants monsieur compagnie camarade jeune hom...   \n3  voyageuses coléoptère grosse carapace poulet g...   \n4  décharné porteur chapeau forme s complet midi ...   \n\n           texteLem_verbe_Adj_ADV_PROPN_NOUN_keyword  \n0  type an type question mou cordon heure affluen...  \n1  véhicule transport complet ligne s heure minut...  \n2  instant monsieur compagnie camarade jeune homm...  \n3  poulet grand cou revi jour gros carapace centr...  \n4  décharner porteur chapeau jeune homme complet ...  ",
      "text/html": "<div>\n<style scoped>\n    .dataframe tbody tr th:only-of-type {\n        vertical-align: middle;\n    }\n\n    .dataframe tbody tr th {\n        vertical-align: top;\n    }\n\n    .dataframe thead th {\n        text-align: right;\n    }\n</style>\n<table border=\"1\" class=\"dataframe\">\n  <thead>\n    <tr style=\"text-align: right;\">\n      <th></th>\n      <th>title</th>\n      <th>texte</th>\n      <th>texte_sans_entites</th>\n      <th>text_without_stop_word</th>\n      <th>texte_verbe_Adj_ADV_PROPN_NOUN</th>\n      <th>texteLem_verbe_Adj_ADV_PROPN_NOUN</th>\n      <th>texte_keyword</th>\n      <th>texte_sans_entites_keyword</th>\n      <th>text_without_stop_word_keyword</th>\n      <th>texte_verbe_Adj_ADV_PROPN_NOUN_keyword</th>\n      <th>texteLem_verbe_Adj_ADV_PROPN_NOUN_keyword</th>\n    </tr>\n  </thead>\n  <tbody>\n    <tr>\n      <th>0</th>\n      <td>Notations.</td>\n      <td>Dans l'S, à une heure d'affluence. Un type dan...</td>\n      <td>Dans l', à une heure d'affluence. Un type dans...</td>\n      <td>S , heure affluence . type vingt-six ans , cha...</td>\n      <td>S , heure affluence . type ans , chapeau mou c...</td>\n      <td>s , heure affluence . type an , chapeau mou co...</td>\n      <td>type ans cordon chapeau question ruban voisin ...</td>\n      <td>type ans chapeau cordon question ruban affluen...</td>\n      <td>type question type mou cordon heure affluence ...</td>\n      <td>type question type ans mou cordon heure afflue...</td>\n      <td>type an type question mou cordon heure affluen...</td>\n    </tr>\n    <tr>\n      <th>1</th>\n      <td>En partie double.</td>\n      <td>Vers le milieu de la journée et à midi, je me ...</td>\n      <td>Vers le milieu de la journée et à midi, je me ...</td>\n      <td>milieu journée midi , trouvai montai plate - f...</td>\n      <td>milieu journée midi , trouvai montai plate - f...</td>\n      <td>milieu journée midi , trouver monter plate - f...</td>\n      <td>sort ligne s transports place minutes terrasse...</td>\n      <td>sort transports véhicule terrasse arrière auto...</td>\n      <td>complet ligne s heures minutes place siège ter...</td>\n      <td>complet ligne s heures minutes place siège ter...</td>\n      <td>véhicule transport complet ligne s heure minut...</td>\n    </tr>\n    <tr>\n      <th>2</th>\n      <td>Litotes.</td>\n      <td>Nous étions quelques-uns à nous déplacer de co...</td>\n      <td>Nous étions quelques-uns à nous déplacer de co...</td>\n      <td>étions quelques-uns déplacer conserve . jeune ...</td>\n      <td>étions déplacer conserve . jeune homme , n' av...</td>\n      <td>être déplacer conserve . jeune homme , n' avoi...</td>\n      <td>jeune homme air instants compagnie camarade mo...</td>\n      <td>jeune homme air instants monsieur compagnie ca...</td>\n      <td>instants monsieur jeune homme compagnie camara...</td>\n      <td>instants monsieur compagnie camarade jeune hom...</td>\n      <td>instant monsieur compagnie camarade jeune homm...</td>\n    </tr>\n    <tr>\n      <th>3</th>\n      <td>Métaphoriquement.</td>\n      <td>Au centre du jour, jeté dans le tas des sardin...</td>\n      <td>Au centre du jour, jeté dans le tas des sardin...</td>\n      <td>centre jour , jeté tas sardines voyageuses col...</td>\n      <td>centre jour , jeté tas sardines voyageuses col...</td>\n      <td>centre jour , jeter tas sardine voyageur coléo...</td>\n      <td>grosse carapace grand cou morne désert jour ai...</td>\n      <td>grosse carapace grand cou morne désert jour ai...</td>\n      <td>voyageuses coléoptère grosse carapace poulet g...</td>\n      <td>voyageuses coléoptère grosse carapace poulet g...</td>\n      <td>poulet grand cou revi jour gros carapace centr...</td>\n    </tr>\n    <tr>\n      <th>4</th>\n      <td>Rétrograde.</td>\n      <td>Tu devrais ajouter un bouton à ton pardessus, ...</td>\n      <td>Tu devrais ajouter un bouton à ton pardessus, ...</td>\n      <td>devrais ajouter bouton pardessus , ami . renco...</td>\n      <td>devrais ajouter bouton ton pardessus , dit ami...</td>\n      <td>devoir ajouter bouton ton pardessus , dire ami...</td>\n      <td>jeune homme chapeau porteur plate-forme place ...</td>\n      <td>jeune homme chapeau porteur plate-forme place ...</td>\n      <td>décharné porteur chapeau forme s complet midi ...</td>\n      <td>décharné porteur chapeau forme s complet midi ...</td>\n      <td>décharner porteur chapeau jeune homme complet ...</td>\n    </tr>\n  </tbody>\n</table>\n</div>"
     },
     "execution_count": 9,
     "metadata": {},
     "output_type": "execute_result"
    }
   ],
   "source": [
    "data = pd.read_csv(r\"data/Keyword_with_PKE_queneau_fr.csv\")\n",
    "data.head()"
   ],
   "metadata": {
    "collapsed": false,
    "pycharm": {
     "name": "#%%\n"
    }
   }
  },
  {
   "cell_type": "code",
   "execution_count": 10,
   "outputs": [],
   "source": [
    "# lemmatisation des mots clés à partir de leur lemm d'origine(text)"
   ],
   "metadata": {
    "collapsed": false,
    "pycharm": {
     "name": "#%%\n"
    }
   }
  },
  {
   "cell_type": "markdown",
   "source": [],
   "metadata": {
    "collapsed": false
   }
  },
  {
   "cell_type": "code",
   "execution_count": 11,
   "outputs": [],
   "source": [
    "def analyze_columns(column_name,title):\n",
    "    total_keyworsd_list = list()\n",
    "    for keywords_list in data[column_name]:\n",
    "        for word in keywords_list.split(' '):\n",
    "            total_keyworsd_list.append(word)\n",
    "\n",
    "    print(\"#############################################################\")\n",
    "    print(\"Nombre de mots clés générer: \"+str(len(list(set(total_keyworsd_list)))))\n",
    "    print(\"Nombre d'erreur: \"+str(len(data[data[column_name]==\"error: min() arg is an empty sequence\"])))\n",
    "    print(\"#############################################################\")\n",
    "    print(\"\\r\")\n",
    "\n",
    "    collection_of_keywords=Counter(total_keyworsd_list)\n",
    "    #print(collection_of_keywords)\n",
    "    x=list(collection_of_keywords.keys())\n",
    "    y=list(collection_of_keywords.values())\n",
    "    fig = go.Figure([go.Bar(x=x[:100], y=y[:100])])\n",
    "    fig.update_layout(barmode='stack', xaxis={'categoryorder':'total descending'}, title=title)\n",
    "    return(total_keyworsd_list,fig)\n",
    "\n"
   ],
   "metadata": {
    "collapsed": false,
    "pycharm": {
     "name": "#%%\n"
    }
   }
  },
  {
   "cell_type": "markdown",
   "source": [],
   "metadata": {
    "collapsed": false
   }
  },
  {
   "cell_type": "code",
   "execution_count": 12,
   "outputs": [
    {
     "name": "stdout",
     "output_type": "stream",
     "text": [
      "#############################################################\n",
      "Nombre de mots clés générer: 808\n",
      "Nombre d'erreur: 0\n",
      "#############################################################\n",
      "\r\n"
     ]
    },
    {
     "data": {
      "text/html": "<html>\n<head><meta charset=\"utf-8\" /></head>\n<body>\n    <div>            <script src=\"https://cdnjs.cloudflare.com/ajax/libs/mathjax/2.7.5/MathJax.js?config=TeX-AMS-MML_SVG\"></script><script type=\"text/javascript\">if (window.MathJax) {MathJax.Hub.Config({SVG: {font: \"STIX-Web\"}});}</script>                <script type=\"text/javascript\">window.PlotlyConfig = {MathJaxConfig: 'local'};</script>\n        <script src=\"https://cdn.plot.ly/plotly-2.11.1.min.js\"></script>                <div id=\"0f22a898-853e-4d3c-b1af-fac42622fbd5\" class=\"plotly-graph-div\" style=\"height:525px; width:100%;\"></div>            <script type=\"text/javascript\">                                    window.PLOTLYENV=window.PLOTLYENV || {};                                    if (document.getElementById(\"0f22a898-853e-4d3c-b1af-fac42622fbd5\")) {                    Plotly.newPlot(                        \"0f22a898-853e-4d3c-b1af-fac42622fbd5\",                        [{\"x\":[\"type\",\"ans\",\"cordon\",\"chapeau\",\"question\",\"ruban\",\"voisin\",\"affluence\",\"cou\",\"heure\",\"sort\",\"ligne\",\"s\",\"transports\",\"place\",\"minutes\",\"terrasse\",\"arri\\u00e8re\",\"revois\",\"cour\",\"v\\u00e9hicule\",\"si\\u00e8ge\",\"autobus\",\"jeune\",\"homme\",\"air\",\"instants\",\"compagnie\",\"camarade\",\"monsieur\",\"chiffons\",\"c\\u00f4t\\u00e9\",\"heures\",\"grosse\",\"carapace\",\"grand\",\"morne\",\"d\\u00e9sert\",\"jour\",\"airs\",\"protestation\",\"sardines\",\"poulet\",\"tas\",\"langage\",\"porteur\",\"plate-forme\",\"avidit\\u00e9\",\"rome\",\"autre\",\"voyageur\",\"fois\",\"b\\u00eate\",\"gar\\u00e7on\",\"fait-il\",\"lieu\",\"bonhomme\",\"pr\\u00e9tendait-il\",\"damoiseau\",\"voil\\u00e0-t-il\",\"seule\",\"figure\",\"partie\",\"pr\\u00e9sences\",\"plein\",\"soleil\",\"l\\u00e2che\",\"ficelle\",\"individu\",\"ridicule\",\"jouvenceau\",\"point\",\"voyageurs\",\"nez\",\"feutre\",\"panique\",\"libre\",\"traction\",\"gens\",\"coup\",\"cordeli\\u00e8re\",\"gare\",\"voix\",\"ami\",\"atmosph\\u00e8re\",\"t.\",\"c.\",\"r.\",\"ennemi\",\"m.\",\"mariage\",\"bastille\",\"correspondance\",\"chapelle\",\"dot\",\"menton\",\"m\\u00eame\",\"personnage\",\"pouce\",\"\\u00e9trange\"],\"y\":[9,2,1,16,3,10,6,1,34,2,1,14,20,3,26,1,1,8,1,3,3,1,25,16,18,6,1,2,5,6,1,1,9,1,1,7,1,2,7,2,1,1,2,1,1,1,7,1,5,18,8,6,1,1,1,6,1,1,1,1,1,1,2,1,1,3,2,1,3,3,1,3,3,2,2,1,1,1,1,8,1,20,2,1,3,1,1,2,1,1,1,2,1,1,1,1,4,5,1,1],\"type\":\"bar\"}],                        {\"template\":{\"data\":{\"histogram2dcontour\":[{\"type\":\"histogram2dcontour\",\"colorbar\":{\"outlinewidth\":0,\"ticks\":\"\"},\"colorscale\":[[0.0,\"#0d0887\"],[0.1111111111111111,\"#46039f\"],[0.2222222222222222,\"#7201a8\"],[0.3333333333333333,\"#9c179e\"],[0.4444444444444444,\"#bd3786\"],[0.5555555555555556,\"#d8576b\"],[0.6666666666666666,\"#ed7953\"],[0.7777777777777778,\"#fb9f3a\"],[0.8888888888888888,\"#fdca26\"],[1.0,\"#f0f921\"]]}],\"choropleth\":[{\"type\":\"choropleth\",\"colorbar\":{\"outlinewidth\":0,\"ticks\":\"\"}}],\"histogram2d\":[{\"type\":\"histogram2d\",\"colorbar\":{\"outlinewidth\":0,\"ticks\":\"\"},\"colorscale\":[[0.0,\"#0d0887\"],[0.1111111111111111,\"#46039f\"],[0.2222222222222222,\"#7201a8\"],[0.3333333333333333,\"#9c179e\"],[0.4444444444444444,\"#bd3786\"],[0.5555555555555556,\"#d8576b\"],[0.6666666666666666,\"#ed7953\"],[0.7777777777777778,\"#fb9f3a\"],[0.8888888888888888,\"#fdca26\"],[1.0,\"#f0f921\"]]}],\"heatmap\":[{\"type\":\"heatmap\",\"colorbar\":{\"outlinewidth\":0,\"ticks\":\"\"},\"colorscale\":[[0.0,\"#0d0887\"],[0.1111111111111111,\"#46039f\"],[0.2222222222222222,\"#7201a8\"],[0.3333333333333333,\"#9c179e\"],[0.4444444444444444,\"#bd3786\"],[0.5555555555555556,\"#d8576b\"],[0.6666666666666666,\"#ed7953\"],[0.7777777777777778,\"#fb9f3a\"],[0.8888888888888888,\"#fdca26\"],[1.0,\"#f0f921\"]]}],\"heatmapgl\":[{\"type\":\"heatmapgl\",\"colorbar\":{\"outlinewidth\":0,\"ticks\":\"\"},\"colorscale\":[[0.0,\"#0d0887\"],[0.1111111111111111,\"#46039f\"],[0.2222222222222222,\"#7201a8\"],[0.3333333333333333,\"#9c179e\"],[0.4444444444444444,\"#bd3786\"],[0.5555555555555556,\"#d8576b\"],[0.6666666666666666,\"#ed7953\"],[0.7777777777777778,\"#fb9f3a\"],[0.8888888888888888,\"#fdca26\"],[1.0,\"#f0f921\"]]}],\"contourcarpet\":[{\"type\":\"contourcarpet\",\"colorbar\":{\"outlinewidth\":0,\"ticks\":\"\"}}],\"contour\":[{\"type\":\"contour\",\"colorbar\":{\"outlinewidth\":0,\"ticks\":\"\"},\"colorscale\":[[0.0,\"#0d0887\"],[0.1111111111111111,\"#46039f\"],[0.2222222222222222,\"#7201a8\"],[0.3333333333333333,\"#9c179e\"],[0.4444444444444444,\"#bd3786\"],[0.5555555555555556,\"#d8576b\"],[0.6666666666666666,\"#ed7953\"],[0.7777777777777778,\"#fb9f3a\"],[0.8888888888888888,\"#fdca26\"],[1.0,\"#f0f921\"]]}],\"surface\":[{\"type\":\"surface\",\"colorbar\":{\"outlinewidth\":0,\"ticks\":\"\"},\"colorscale\":[[0.0,\"#0d0887\"],[0.1111111111111111,\"#46039f\"],[0.2222222222222222,\"#7201a8\"],[0.3333333333333333,\"#9c179e\"],[0.4444444444444444,\"#bd3786\"],[0.5555555555555556,\"#d8576b\"],[0.6666666666666666,\"#ed7953\"],[0.7777777777777778,\"#fb9f3a\"],[0.8888888888888888,\"#fdca26\"],[1.0,\"#f0f921\"]]}],\"mesh3d\":[{\"type\":\"mesh3d\",\"colorbar\":{\"outlinewidth\":0,\"ticks\":\"\"}}],\"scatter\":[{\"fillpattern\":{\"fillmode\":\"overlay\",\"size\":10,\"solidity\":0.2},\"type\":\"scatter\"}],\"parcoords\":[{\"type\":\"parcoords\",\"line\":{\"colorbar\":{\"outlinewidth\":0,\"ticks\":\"\"}}}],\"scatterpolargl\":[{\"type\":\"scatterpolargl\",\"marker\":{\"colorbar\":{\"outlinewidth\":0,\"ticks\":\"\"}}}],\"bar\":[{\"error_x\":{\"color\":\"#2a3f5f\"},\"error_y\":{\"color\":\"#2a3f5f\"},\"marker\":{\"line\":{\"color\":\"#E5ECF6\",\"width\":0.5},\"pattern\":{\"fillmode\":\"overlay\",\"size\":10,\"solidity\":0.2}},\"type\":\"bar\"}],\"scattergeo\":[{\"type\":\"scattergeo\",\"marker\":{\"colorbar\":{\"outlinewidth\":0,\"ticks\":\"\"}}}],\"scatterpolar\":[{\"type\":\"scatterpolar\",\"marker\":{\"colorbar\":{\"outlinewidth\":0,\"ticks\":\"\"}}}],\"histogram\":[{\"marker\":{\"pattern\":{\"fillmode\":\"overlay\",\"size\":10,\"solidity\":0.2}},\"type\":\"histogram\"}],\"scattergl\":[{\"type\":\"scattergl\",\"marker\":{\"colorbar\":{\"outlinewidth\":0,\"ticks\":\"\"}}}],\"scatter3d\":[{\"type\":\"scatter3d\",\"line\":{\"colorbar\":{\"outlinewidth\":0,\"ticks\":\"\"}},\"marker\":{\"colorbar\":{\"outlinewidth\":0,\"ticks\":\"\"}}}],\"scattermapbox\":[{\"type\":\"scattermapbox\",\"marker\":{\"colorbar\":{\"outlinewidth\":0,\"ticks\":\"\"}}}],\"scatterternary\":[{\"type\":\"scatterternary\",\"marker\":{\"colorbar\":{\"outlinewidth\":0,\"ticks\":\"\"}}}],\"scattercarpet\":[{\"type\":\"scattercarpet\",\"marker\":{\"colorbar\":{\"outlinewidth\":0,\"ticks\":\"\"}}}],\"carpet\":[{\"aaxis\":{\"endlinecolor\":\"#2a3f5f\",\"gridcolor\":\"white\",\"linecolor\":\"white\",\"minorgridcolor\":\"white\",\"startlinecolor\":\"#2a3f5f\"},\"baxis\":{\"endlinecolor\":\"#2a3f5f\",\"gridcolor\":\"white\",\"linecolor\":\"white\",\"minorgridcolor\":\"white\",\"startlinecolor\":\"#2a3f5f\"},\"type\":\"carpet\"}],\"table\":[{\"cells\":{\"fill\":{\"color\":\"#EBF0F8\"},\"line\":{\"color\":\"white\"}},\"header\":{\"fill\":{\"color\":\"#C8D4E3\"},\"line\":{\"color\":\"white\"}},\"type\":\"table\"}],\"barpolar\":[{\"marker\":{\"line\":{\"color\":\"#E5ECF6\",\"width\":0.5},\"pattern\":{\"fillmode\":\"overlay\",\"size\":10,\"solidity\":0.2}},\"type\":\"barpolar\"}],\"pie\":[{\"automargin\":true,\"type\":\"pie\"}]},\"layout\":{\"autotypenumbers\":\"strict\",\"colorway\":[\"#636efa\",\"#EF553B\",\"#00cc96\",\"#ab63fa\",\"#FFA15A\",\"#19d3f3\",\"#FF6692\",\"#B6E880\",\"#FF97FF\",\"#FECB52\"],\"font\":{\"color\":\"#2a3f5f\"},\"hovermode\":\"closest\",\"hoverlabel\":{\"align\":\"left\"},\"paper_bgcolor\":\"white\",\"plot_bgcolor\":\"#E5ECF6\",\"polar\":{\"bgcolor\":\"#E5ECF6\",\"angularaxis\":{\"gridcolor\":\"white\",\"linecolor\":\"white\",\"ticks\":\"\"},\"radialaxis\":{\"gridcolor\":\"white\",\"linecolor\":\"white\",\"ticks\":\"\"}},\"ternary\":{\"bgcolor\":\"#E5ECF6\",\"aaxis\":{\"gridcolor\":\"white\",\"linecolor\":\"white\",\"ticks\":\"\"},\"baxis\":{\"gridcolor\":\"white\",\"linecolor\":\"white\",\"ticks\":\"\"},\"caxis\":{\"gridcolor\":\"white\",\"linecolor\":\"white\",\"ticks\":\"\"}},\"coloraxis\":{\"colorbar\":{\"outlinewidth\":0,\"ticks\":\"\"}},\"colorscale\":{\"sequential\":[[0.0,\"#0d0887\"],[0.1111111111111111,\"#46039f\"],[0.2222222222222222,\"#7201a8\"],[0.3333333333333333,\"#9c179e\"],[0.4444444444444444,\"#bd3786\"],[0.5555555555555556,\"#d8576b\"],[0.6666666666666666,\"#ed7953\"],[0.7777777777777778,\"#fb9f3a\"],[0.8888888888888888,\"#fdca26\"],[1.0,\"#f0f921\"]],\"sequentialminus\":[[0.0,\"#0d0887\"],[0.1111111111111111,\"#46039f\"],[0.2222222222222222,\"#7201a8\"],[0.3333333333333333,\"#9c179e\"],[0.4444444444444444,\"#bd3786\"],[0.5555555555555556,\"#d8576b\"],[0.6666666666666666,\"#ed7953\"],[0.7777777777777778,\"#fb9f3a\"],[0.8888888888888888,\"#fdca26\"],[1.0,\"#f0f921\"]],\"diverging\":[[0,\"#8e0152\"],[0.1,\"#c51b7d\"],[0.2,\"#de77ae\"],[0.3,\"#f1b6da\"],[0.4,\"#fde0ef\"],[0.5,\"#f7f7f7\"],[0.6,\"#e6f5d0\"],[0.7,\"#b8e186\"],[0.8,\"#7fbc41\"],[0.9,\"#4d9221\"],[1,\"#276419\"]]},\"xaxis\":{\"gridcolor\":\"white\",\"linecolor\":\"white\",\"ticks\":\"\",\"title\":{\"standoff\":15},\"zerolinecolor\":\"white\",\"automargin\":true,\"zerolinewidth\":2},\"yaxis\":{\"gridcolor\":\"white\",\"linecolor\":\"white\",\"ticks\":\"\",\"title\":{\"standoff\":15},\"zerolinecolor\":\"white\",\"automargin\":true,\"zerolinewidth\":2},\"scene\":{\"xaxis\":{\"backgroundcolor\":\"#E5ECF6\",\"gridcolor\":\"white\",\"linecolor\":\"white\",\"showbackground\":true,\"ticks\":\"\",\"zerolinecolor\":\"white\",\"gridwidth\":2},\"yaxis\":{\"backgroundcolor\":\"#E5ECF6\",\"gridcolor\":\"white\",\"linecolor\":\"white\",\"showbackground\":true,\"ticks\":\"\",\"zerolinecolor\":\"white\",\"gridwidth\":2},\"zaxis\":{\"backgroundcolor\":\"#E5ECF6\",\"gridcolor\":\"white\",\"linecolor\":\"white\",\"showbackground\":true,\"ticks\":\"\",\"zerolinecolor\":\"white\",\"gridwidth\":2}},\"shapedefaults\":{\"line\":{\"color\":\"#2a3f5f\"}},\"annotationdefaults\":{\"arrowcolor\":\"#2a3f5f\",\"arrowhead\":0,\"arrowwidth\":1},\"geo\":{\"bgcolor\":\"white\",\"landcolor\":\"#E5ECF6\",\"subunitcolor\":\"white\",\"showland\":true,\"showlakes\":true,\"lakecolor\":\"white\"},\"title\":{\"x\":0.05},\"mapbox\":{\"style\":\"light\"}}},\"xaxis\":{\"categoryorder\":\"total descending\"},\"barmode\":\"stack\",\"title\":{\"text\":\"Mots cl\\u00e9s extraient \\u00e0 partir du texte complet\"}},                        {\"responsive\": true}                    ).then(function(){\n                            \nvar gd = document.getElementById('0f22a898-853e-4d3c-b1af-fac42622fbd5');\nvar x = new MutationObserver(function (mutations, observer) {{\n        var display = window.getComputedStyle(gd).display;\n        if (!display || display === 'none') {{\n            console.log([gd, 'removed!']);\n            Plotly.purge(gd);\n            observer.disconnect();\n        }}\n}});\n\n// Listen for the removal of the full notebook cells\nvar notebookContainer = gd.closest('#notebook-container');\nif (notebookContainer) {{\n    x.observe(notebookContainer, {childList: true});\n}}\n\n// Listen for the clearing of the current output cell\nvar outputEl = gd.closest('.output');\nif (outputEl) {{\n    x.observe(outputEl, {childList: true});\n}}\n\n                        })                };                            </script>        </div>\n</body>\n</html>"
     },
     "metadata": {},
     "output_type": "display_data"
    }
   ],
   "source": [
    "list_of_keywords_text,fig_texte_keyword =analyze_columns(\"texte_keyword\",\"Mots clés extraient à partir du texte complet\")\n",
    "fig_texte_keyword.show(renderer=\"colab\")"
   ],
   "metadata": {
    "collapsed": false,
    "pycharm": {
     "name": "#%%\n"
    }
   }
  },
  {
   "cell_type": "code",
   "execution_count": 13,
   "outputs": [
    {
     "name": "stdout",
     "output_type": "stream",
     "text": [
      "#############################################################\n",
      "Nombre de mots clés générer: 714\n",
      "Nombre d'erreur: 0\n",
      "#############################################################\n",
      "\r\n"
     ]
    },
    {
     "data": {
      "text/html": "<html>\n<head><meta charset=\"utf-8\" /></head>\n<body>\n    <div>            <script src=\"https://cdnjs.cloudflare.com/ajax/libs/mathjax/2.7.5/MathJax.js?config=TeX-AMS-MML_SVG\"></script><script type=\"text/javascript\">if (window.MathJax) {MathJax.Hub.Config({SVG: {font: \"STIX-Web\"}});}</script>                <script type=\"text/javascript\">window.PlotlyConfig = {MathJaxConfig: 'local'};</script>\n        <script src=\"https://cdn.plot.ly/plotly-2.11.1.min.js\"></script>                <div id=\"731646f5-946a-45cb-b8da-177a1e654936\" class=\"plotly-graph-div\" style=\"height:525px; width:100%;\"></div>            <script type=\"text/javascript\">                                    window.PLOTLYENV=window.PLOTLYENV || {};                                    if (document.getElementById(\"731646f5-946a-45cb-b8da-177a1e654936\")) {                    Plotly.newPlot(                        \"731646f5-946a-45cb-b8da-177a1e654936\",                        [{\"x\":[\"type\",\"ans\",\"chapeau\",\"cordon\",\"question\",\"ruban\",\"affluence\",\"voisin\",\"cou\",\"heure\",\"sort\",\"transports\",\"v\\u00e9hicule\",\"terrasse\",\"arri\\u00e8re\",\"autobus\",\"place\",\"minutes\",\"si\\u00e8ge\",\"revois\",\"cour\",\"heures\",\"jeune\",\"homme\",\"air\",\"instants\",\"monsieur\",\"compagnie\",\"camarade\",\"c\\u00f4t\\u00e9\",\"grosse\",\"carapace\",\"grand\",\"morne\",\"d\\u00e9sert\",\"jour\",\"airs\",\"protestation\",\"sardines\",\"poulet\",\"tas\",\"langage\",\"porteur\",\"plate-forme\",\"avidit\\u00e9\",\"autre\",\"voyageur\",\"fois\",\"disait-il,\",\"ami\",\"b\\u00eate\",\"gar\\u00e7on\",\"fait-il\",\"lieu\",\"bonhomme\",\"pr\\u00e9tendait-il\",\"damoiseau\",\"voil\\u00e0-t-il\",\"seule\",\"figure\",\"partie\",\"pr\\u00e9sences\",\"l\\u00e2che\",\"plein\",\"soleil\",\"ficelle\",\"individu\",\"ridicule\",\"jouvenceau\",\"point\",\"voyageurs\",\"feutre\",\"nez\",\"panique\",\"libre\",\"traction\",\"gens\",\"de\",\"cordeli\\u00e8re\",\"coup\",\"gare\",\"voix\",\"atmosph\\u00e8re\",\"ennemi\",\"correspondance\",\"ba\\u00efonnette\",\"chapelle\",\"doute\",\"bouton\",\"\\u00e9trange\",\"m\\u00eame\",\"personnage\",\"pouce\",\"jeunesse\",\"poubelle\",\"charnier\",\"centim\\u00e8tres\",\"m\\u00e8tres\",\"aint-lazare,\",\"entr\\u00e9e\"],\"y\":[8,2,21,1,3,12,1,7,34,2,1,3,5,1,8,19,22,1,1,1,1,9,17,17,6,1,6,3,5,1,1,1,5,1,2,7,2,1,1,1,1,1,1,7,1,18,8,7,1,2,1,1,1,4,1,1,1,1,1,1,2,1,2,1,2,1,3,3,1,3,3,4,2,1,1,1,1,1,2,9,2,2,2,1,1,1,1,1,13,1,5,4,1,1,1,1,2,1,1,1],\"type\":\"bar\"}],                        {\"template\":{\"data\":{\"histogram2dcontour\":[{\"type\":\"histogram2dcontour\",\"colorbar\":{\"outlinewidth\":0,\"ticks\":\"\"},\"colorscale\":[[0.0,\"#0d0887\"],[0.1111111111111111,\"#46039f\"],[0.2222222222222222,\"#7201a8\"],[0.3333333333333333,\"#9c179e\"],[0.4444444444444444,\"#bd3786\"],[0.5555555555555556,\"#d8576b\"],[0.6666666666666666,\"#ed7953\"],[0.7777777777777778,\"#fb9f3a\"],[0.8888888888888888,\"#fdca26\"],[1.0,\"#f0f921\"]]}],\"choropleth\":[{\"type\":\"choropleth\",\"colorbar\":{\"outlinewidth\":0,\"ticks\":\"\"}}],\"histogram2d\":[{\"type\":\"histogram2d\",\"colorbar\":{\"outlinewidth\":0,\"ticks\":\"\"},\"colorscale\":[[0.0,\"#0d0887\"],[0.1111111111111111,\"#46039f\"],[0.2222222222222222,\"#7201a8\"],[0.3333333333333333,\"#9c179e\"],[0.4444444444444444,\"#bd3786\"],[0.5555555555555556,\"#d8576b\"],[0.6666666666666666,\"#ed7953\"],[0.7777777777777778,\"#fb9f3a\"],[0.8888888888888888,\"#fdca26\"],[1.0,\"#f0f921\"]]}],\"heatmap\":[{\"type\":\"heatmap\",\"colorbar\":{\"outlinewidth\":0,\"ticks\":\"\"},\"colorscale\":[[0.0,\"#0d0887\"],[0.1111111111111111,\"#46039f\"],[0.2222222222222222,\"#7201a8\"],[0.3333333333333333,\"#9c179e\"],[0.4444444444444444,\"#bd3786\"],[0.5555555555555556,\"#d8576b\"],[0.6666666666666666,\"#ed7953\"],[0.7777777777777778,\"#fb9f3a\"],[0.8888888888888888,\"#fdca26\"],[1.0,\"#f0f921\"]]}],\"heatmapgl\":[{\"type\":\"heatmapgl\",\"colorbar\":{\"outlinewidth\":0,\"ticks\":\"\"},\"colorscale\":[[0.0,\"#0d0887\"],[0.1111111111111111,\"#46039f\"],[0.2222222222222222,\"#7201a8\"],[0.3333333333333333,\"#9c179e\"],[0.4444444444444444,\"#bd3786\"],[0.5555555555555556,\"#d8576b\"],[0.6666666666666666,\"#ed7953\"],[0.7777777777777778,\"#fb9f3a\"],[0.8888888888888888,\"#fdca26\"],[1.0,\"#f0f921\"]]}],\"contourcarpet\":[{\"type\":\"contourcarpet\",\"colorbar\":{\"outlinewidth\":0,\"ticks\":\"\"}}],\"contour\":[{\"type\":\"contour\",\"colorbar\":{\"outlinewidth\":0,\"ticks\":\"\"},\"colorscale\":[[0.0,\"#0d0887\"],[0.1111111111111111,\"#46039f\"],[0.2222222222222222,\"#7201a8\"],[0.3333333333333333,\"#9c179e\"],[0.4444444444444444,\"#bd3786\"],[0.5555555555555556,\"#d8576b\"],[0.6666666666666666,\"#ed7953\"],[0.7777777777777778,\"#fb9f3a\"],[0.8888888888888888,\"#fdca26\"],[1.0,\"#f0f921\"]]}],\"surface\":[{\"type\":\"surface\",\"colorbar\":{\"outlinewidth\":0,\"ticks\":\"\"},\"colorscale\":[[0.0,\"#0d0887\"],[0.1111111111111111,\"#46039f\"],[0.2222222222222222,\"#7201a8\"],[0.3333333333333333,\"#9c179e\"],[0.4444444444444444,\"#bd3786\"],[0.5555555555555556,\"#d8576b\"],[0.6666666666666666,\"#ed7953\"],[0.7777777777777778,\"#fb9f3a\"],[0.8888888888888888,\"#fdca26\"],[1.0,\"#f0f921\"]]}],\"mesh3d\":[{\"type\":\"mesh3d\",\"colorbar\":{\"outlinewidth\":0,\"ticks\":\"\"}}],\"scatter\":[{\"fillpattern\":{\"fillmode\":\"overlay\",\"size\":10,\"solidity\":0.2},\"type\":\"scatter\"}],\"parcoords\":[{\"type\":\"parcoords\",\"line\":{\"colorbar\":{\"outlinewidth\":0,\"ticks\":\"\"}}}],\"scatterpolargl\":[{\"type\":\"scatterpolargl\",\"marker\":{\"colorbar\":{\"outlinewidth\":0,\"ticks\":\"\"}}}],\"bar\":[{\"error_x\":{\"color\":\"#2a3f5f\"},\"error_y\":{\"color\":\"#2a3f5f\"},\"marker\":{\"line\":{\"color\":\"#E5ECF6\",\"width\":0.5},\"pattern\":{\"fillmode\":\"overlay\",\"size\":10,\"solidity\":0.2}},\"type\":\"bar\"}],\"scattergeo\":[{\"type\":\"scattergeo\",\"marker\":{\"colorbar\":{\"outlinewidth\":0,\"ticks\":\"\"}}}],\"scatterpolar\":[{\"type\":\"scatterpolar\",\"marker\":{\"colorbar\":{\"outlinewidth\":0,\"ticks\":\"\"}}}],\"histogram\":[{\"marker\":{\"pattern\":{\"fillmode\":\"overlay\",\"size\":10,\"solidity\":0.2}},\"type\":\"histogram\"}],\"scattergl\":[{\"type\":\"scattergl\",\"marker\":{\"colorbar\":{\"outlinewidth\":0,\"ticks\":\"\"}}}],\"scatter3d\":[{\"type\":\"scatter3d\",\"line\":{\"colorbar\":{\"outlinewidth\":0,\"ticks\":\"\"}},\"marker\":{\"colorbar\":{\"outlinewidth\":0,\"ticks\":\"\"}}}],\"scattermapbox\":[{\"type\":\"scattermapbox\",\"marker\":{\"colorbar\":{\"outlinewidth\":0,\"ticks\":\"\"}}}],\"scatterternary\":[{\"type\":\"scatterternary\",\"marker\":{\"colorbar\":{\"outlinewidth\":0,\"ticks\":\"\"}}}],\"scattercarpet\":[{\"type\":\"scattercarpet\",\"marker\":{\"colorbar\":{\"outlinewidth\":0,\"ticks\":\"\"}}}],\"carpet\":[{\"aaxis\":{\"endlinecolor\":\"#2a3f5f\",\"gridcolor\":\"white\",\"linecolor\":\"white\",\"minorgridcolor\":\"white\",\"startlinecolor\":\"#2a3f5f\"},\"baxis\":{\"endlinecolor\":\"#2a3f5f\",\"gridcolor\":\"white\",\"linecolor\":\"white\",\"minorgridcolor\":\"white\",\"startlinecolor\":\"#2a3f5f\"},\"type\":\"carpet\"}],\"table\":[{\"cells\":{\"fill\":{\"color\":\"#EBF0F8\"},\"line\":{\"color\":\"white\"}},\"header\":{\"fill\":{\"color\":\"#C8D4E3\"},\"line\":{\"color\":\"white\"}},\"type\":\"table\"}],\"barpolar\":[{\"marker\":{\"line\":{\"color\":\"#E5ECF6\",\"width\":0.5},\"pattern\":{\"fillmode\":\"overlay\",\"size\":10,\"solidity\":0.2}},\"type\":\"barpolar\"}],\"pie\":[{\"automargin\":true,\"type\":\"pie\"}]},\"layout\":{\"autotypenumbers\":\"strict\",\"colorway\":[\"#636efa\",\"#EF553B\",\"#00cc96\",\"#ab63fa\",\"#FFA15A\",\"#19d3f3\",\"#FF6692\",\"#B6E880\",\"#FF97FF\",\"#FECB52\"],\"font\":{\"color\":\"#2a3f5f\"},\"hovermode\":\"closest\",\"hoverlabel\":{\"align\":\"left\"},\"paper_bgcolor\":\"white\",\"plot_bgcolor\":\"#E5ECF6\",\"polar\":{\"bgcolor\":\"#E5ECF6\",\"angularaxis\":{\"gridcolor\":\"white\",\"linecolor\":\"white\",\"ticks\":\"\"},\"radialaxis\":{\"gridcolor\":\"white\",\"linecolor\":\"white\",\"ticks\":\"\"}},\"ternary\":{\"bgcolor\":\"#E5ECF6\",\"aaxis\":{\"gridcolor\":\"white\",\"linecolor\":\"white\",\"ticks\":\"\"},\"baxis\":{\"gridcolor\":\"white\",\"linecolor\":\"white\",\"ticks\":\"\"},\"caxis\":{\"gridcolor\":\"white\",\"linecolor\":\"white\",\"ticks\":\"\"}},\"coloraxis\":{\"colorbar\":{\"outlinewidth\":0,\"ticks\":\"\"}},\"colorscale\":{\"sequential\":[[0.0,\"#0d0887\"],[0.1111111111111111,\"#46039f\"],[0.2222222222222222,\"#7201a8\"],[0.3333333333333333,\"#9c179e\"],[0.4444444444444444,\"#bd3786\"],[0.5555555555555556,\"#d8576b\"],[0.6666666666666666,\"#ed7953\"],[0.7777777777777778,\"#fb9f3a\"],[0.8888888888888888,\"#fdca26\"],[1.0,\"#f0f921\"]],\"sequentialminus\":[[0.0,\"#0d0887\"],[0.1111111111111111,\"#46039f\"],[0.2222222222222222,\"#7201a8\"],[0.3333333333333333,\"#9c179e\"],[0.4444444444444444,\"#bd3786\"],[0.5555555555555556,\"#d8576b\"],[0.6666666666666666,\"#ed7953\"],[0.7777777777777778,\"#fb9f3a\"],[0.8888888888888888,\"#fdca26\"],[1.0,\"#f0f921\"]],\"diverging\":[[0,\"#8e0152\"],[0.1,\"#c51b7d\"],[0.2,\"#de77ae\"],[0.3,\"#f1b6da\"],[0.4,\"#fde0ef\"],[0.5,\"#f7f7f7\"],[0.6,\"#e6f5d0\"],[0.7,\"#b8e186\"],[0.8,\"#7fbc41\"],[0.9,\"#4d9221\"],[1,\"#276419\"]]},\"xaxis\":{\"gridcolor\":\"white\",\"linecolor\":\"white\",\"ticks\":\"\",\"title\":{\"standoff\":15},\"zerolinecolor\":\"white\",\"automargin\":true,\"zerolinewidth\":2},\"yaxis\":{\"gridcolor\":\"white\",\"linecolor\":\"white\",\"ticks\":\"\",\"title\":{\"standoff\":15},\"zerolinecolor\":\"white\",\"automargin\":true,\"zerolinewidth\":2},\"scene\":{\"xaxis\":{\"backgroundcolor\":\"#E5ECF6\",\"gridcolor\":\"white\",\"linecolor\":\"white\",\"showbackground\":true,\"ticks\":\"\",\"zerolinecolor\":\"white\",\"gridwidth\":2},\"yaxis\":{\"backgroundcolor\":\"#E5ECF6\",\"gridcolor\":\"white\",\"linecolor\":\"white\",\"showbackground\":true,\"ticks\":\"\",\"zerolinecolor\":\"white\",\"gridwidth\":2},\"zaxis\":{\"backgroundcolor\":\"#E5ECF6\",\"gridcolor\":\"white\",\"linecolor\":\"white\",\"showbackground\":true,\"ticks\":\"\",\"zerolinecolor\":\"white\",\"gridwidth\":2}},\"shapedefaults\":{\"line\":{\"color\":\"#2a3f5f\"}},\"annotationdefaults\":{\"arrowcolor\":\"#2a3f5f\",\"arrowhead\":0,\"arrowwidth\":1},\"geo\":{\"bgcolor\":\"white\",\"landcolor\":\"#E5ECF6\",\"subunitcolor\":\"white\",\"showland\":true,\"showlakes\":true,\"lakecolor\":\"white\"},\"title\":{\"x\":0.05},\"mapbox\":{\"style\":\"light\"}}},\"xaxis\":{\"categoryorder\":\"total descending\"},\"barmode\":\"stack\",\"title\":{\"text\":\"Mots cl\\u00e9s extraient \\u00e0 partir du texte sans entit\\u00e9s\"}},                        {\"responsive\": true}                    ).then(function(){\n                            \nvar gd = document.getElementById('731646f5-946a-45cb-b8da-177a1e654936');\nvar x = new MutationObserver(function (mutations, observer) {{\n        var display = window.getComputedStyle(gd).display;\n        if (!display || display === 'none') {{\n            console.log([gd, 'removed!']);\n            Plotly.purge(gd);\n            observer.disconnect();\n        }}\n}});\n\n// Listen for the removal of the full notebook cells\nvar notebookContainer = gd.closest('#notebook-container');\nif (notebookContainer) {{\n    x.observe(notebookContainer, {childList: true});\n}}\n\n// Listen for the clearing of the current output cell\nvar outputEl = gd.closest('.output');\nif (outputEl) {{\n    x.observe(outputEl, {childList: true});\n}}\n\n                        })                };                            </script>        </div>\n</body>\n</html>"
     },
     "metadata": {},
     "output_type": "display_data"
    }
   ],
   "source": [
    "list_of_keywords_text,fig_texte_sans_entites_keyword =analyze_columns(\"texte_sans_entites_keyword\",\"Mots clés extraient à partir du texte sans entités\")\n",
    "fig_texte_sans_entites_keyword.show(renderer=\"colab\")\n"
   ],
   "metadata": {
    "collapsed": false,
    "pycharm": {
     "name": "#%%\n"
    }
   }
  },
  {
   "cell_type": "code",
   "execution_count": 14,
   "outputs": [
    {
     "ename": "KeyError",
     "evalue": "'texte.1_keyword'",
     "output_type": "error",
     "traceback": [
      "\u001B[1;31m---------------------------------------------------------------------------\u001B[0m",
      "\u001B[1;31mKeyError\u001B[0m                                  Traceback (most recent call last)",
      "\u001B[1;32mc:\\users\\le muletier\\pycharmprojects\\test-de-quenaud\\venv\\lib\\site-packages\\pandas\\core\\indexes\\base.py\u001B[0m in \u001B[0;36mget_loc\u001B[1;34m(self, key, method, tolerance)\u001B[0m\n\u001B[0;32m   3360\u001B[0m             \u001B[1;32mtry\u001B[0m\u001B[1;33m:\u001B[0m\u001B[1;33m\u001B[0m\u001B[1;33m\u001B[0m\u001B[0m\n\u001B[1;32m-> 3361\u001B[1;33m                 \u001B[1;32mreturn\u001B[0m \u001B[0mself\u001B[0m\u001B[1;33m.\u001B[0m\u001B[0m_engine\u001B[0m\u001B[1;33m.\u001B[0m\u001B[0mget_loc\u001B[0m\u001B[1;33m(\u001B[0m\u001B[0mcasted_key\u001B[0m\u001B[1;33m)\u001B[0m\u001B[1;33m\u001B[0m\u001B[1;33m\u001B[0m\u001B[0m\n\u001B[0m\u001B[0;32m   3362\u001B[0m             \u001B[1;32mexcept\u001B[0m \u001B[0mKeyError\u001B[0m \u001B[1;32mas\u001B[0m \u001B[0merr\u001B[0m\u001B[1;33m:\u001B[0m\u001B[1;33m\u001B[0m\u001B[1;33m\u001B[0m\u001B[0m\n",
      "\u001B[1;32mc:\\users\\le muletier\\pycharmprojects\\test-de-quenaud\\venv\\lib\\site-packages\\pandas\\_libs\\index.pyx\u001B[0m in \u001B[0;36mpandas._libs.index.IndexEngine.get_loc\u001B[1;34m()\u001B[0m\n",
      "\u001B[1;32mc:\\users\\le muletier\\pycharmprojects\\test-de-quenaud\\venv\\lib\\site-packages\\pandas\\_libs\\index.pyx\u001B[0m in \u001B[0;36mpandas._libs.index.IndexEngine.get_loc\u001B[1;34m()\u001B[0m\n",
      "\u001B[1;32mpandas\\_libs\\hashtable_class_helper.pxi\u001B[0m in \u001B[0;36mpandas._libs.hashtable.PyObjectHashTable.get_item\u001B[1;34m()\u001B[0m\n",
      "\u001B[1;32mpandas\\_libs\\hashtable_class_helper.pxi\u001B[0m in \u001B[0;36mpandas._libs.hashtable.PyObjectHashTable.get_item\u001B[1;34m()\u001B[0m\n",
      "\u001B[1;31mKeyError\u001B[0m: 'texte.1_keyword'",
      "\nThe above exception was the direct cause of the following exception:\n",
      "\u001B[1;31mKeyError\u001B[0m                                  Traceback (most recent call last)",
      "\u001B[1;32m~\\AppData\\Local\\Temp\\ipykernel_2180\\1942445925.py\u001B[0m in \u001B[0;36m<module>\u001B[1;34m\u001B[0m\n\u001B[1;32m----> 1\u001B[1;33m \u001B[0mlist_of_keywords_text\u001B[0m\u001B[1;33m,\u001B[0m\u001B[0mfig_texte_keyword\u001B[0m \u001B[1;33m=\u001B[0m\u001B[0manalyze_columns\u001B[0m\u001B[1;33m(\u001B[0m\u001B[1;34m\"texte.1_keyword\"\u001B[0m\u001B[1;33m,\u001B[0m\u001B[1;34m\"Mots clés extraient  à partir des verbes, adjectifs, adverbe et nom propre\"\u001B[0m\u001B[1;33m)\u001B[0m\u001B[1;33m\u001B[0m\u001B[1;33m\u001B[0m\u001B[0m\n\u001B[0m\u001B[0;32m      2\u001B[0m \u001B[0mfig_texte_keyword\u001B[0m\u001B[1;33m.\u001B[0m\u001B[0mshow\u001B[0m\u001B[1;33m(\u001B[0m\u001B[0mrenderer\u001B[0m\u001B[1;33m=\u001B[0m\u001B[1;34m\"colab\"\u001B[0m\u001B[1;33m)\u001B[0m\u001B[1;33m\u001B[0m\u001B[1;33m\u001B[0m\u001B[0m\n\u001B[0;32m      3\u001B[0m \u001B[1;33m\u001B[0m\u001B[0m\n\u001B[0;32m      4\u001B[0m \u001B[1;33m\u001B[0m\u001B[0m\n",
      "\u001B[1;32m~\\AppData\\Local\\Temp\\ipykernel_2180\\1051745134.py\u001B[0m in \u001B[0;36manalyze_columns\u001B[1;34m(column_name, title)\u001B[0m\n\u001B[0;32m      1\u001B[0m \u001B[1;32mdef\u001B[0m \u001B[0manalyze_columns\u001B[0m\u001B[1;33m(\u001B[0m\u001B[0mcolumn_name\u001B[0m\u001B[1;33m,\u001B[0m\u001B[0mtitle\u001B[0m\u001B[1;33m)\u001B[0m\u001B[1;33m:\u001B[0m\u001B[1;33m\u001B[0m\u001B[1;33m\u001B[0m\u001B[0m\n\u001B[0;32m      2\u001B[0m     \u001B[0mtotal_keyworsd_list\u001B[0m \u001B[1;33m=\u001B[0m \u001B[0mlist\u001B[0m\u001B[1;33m(\u001B[0m\u001B[1;33m)\u001B[0m\u001B[1;33m\u001B[0m\u001B[1;33m\u001B[0m\u001B[0m\n\u001B[1;32m----> 3\u001B[1;33m     \u001B[1;32mfor\u001B[0m \u001B[0mkeywords_list\u001B[0m \u001B[1;32min\u001B[0m \u001B[0mdata\u001B[0m\u001B[1;33m[\u001B[0m\u001B[0mcolumn_name\u001B[0m\u001B[1;33m]\u001B[0m\u001B[1;33m:\u001B[0m\u001B[1;33m\u001B[0m\u001B[1;33m\u001B[0m\u001B[0m\n\u001B[0m\u001B[0;32m      4\u001B[0m         \u001B[1;32mfor\u001B[0m \u001B[0mword\u001B[0m \u001B[1;32min\u001B[0m \u001B[0mkeywords_list\u001B[0m\u001B[1;33m.\u001B[0m\u001B[0msplit\u001B[0m\u001B[1;33m(\u001B[0m\u001B[1;34m' '\u001B[0m\u001B[1;33m)\u001B[0m\u001B[1;33m:\u001B[0m\u001B[1;33m\u001B[0m\u001B[1;33m\u001B[0m\u001B[0m\n\u001B[0;32m      5\u001B[0m             \u001B[0mtotal_keyworsd_list\u001B[0m\u001B[1;33m.\u001B[0m\u001B[0mappend\u001B[0m\u001B[1;33m(\u001B[0m\u001B[0mword\u001B[0m\u001B[1;33m)\u001B[0m\u001B[1;33m\u001B[0m\u001B[1;33m\u001B[0m\u001B[0m\n",
      "\u001B[1;32mc:\\users\\le muletier\\pycharmprojects\\test-de-quenaud\\venv\\lib\\site-packages\\pandas\\core\\frame.py\u001B[0m in \u001B[0;36m__getitem__\u001B[1;34m(self, key)\u001B[0m\n\u001B[0;32m   3456\u001B[0m             \u001B[1;32mif\u001B[0m \u001B[0mself\u001B[0m\u001B[1;33m.\u001B[0m\u001B[0mcolumns\u001B[0m\u001B[1;33m.\u001B[0m\u001B[0mnlevels\u001B[0m \u001B[1;33m>\u001B[0m \u001B[1;36m1\u001B[0m\u001B[1;33m:\u001B[0m\u001B[1;33m\u001B[0m\u001B[1;33m\u001B[0m\u001B[0m\n\u001B[0;32m   3457\u001B[0m                 \u001B[1;32mreturn\u001B[0m \u001B[0mself\u001B[0m\u001B[1;33m.\u001B[0m\u001B[0m_getitem_multilevel\u001B[0m\u001B[1;33m(\u001B[0m\u001B[0mkey\u001B[0m\u001B[1;33m)\u001B[0m\u001B[1;33m\u001B[0m\u001B[1;33m\u001B[0m\u001B[0m\n\u001B[1;32m-> 3458\u001B[1;33m             \u001B[0mindexer\u001B[0m \u001B[1;33m=\u001B[0m \u001B[0mself\u001B[0m\u001B[1;33m.\u001B[0m\u001B[0mcolumns\u001B[0m\u001B[1;33m.\u001B[0m\u001B[0mget_loc\u001B[0m\u001B[1;33m(\u001B[0m\u001B[0mkey\u001B[0m\u001B[1;33m)\u001B[0m\u001B[1;33m\u001B[0m\u001B[1;33m\u001B[0m\u001B[0m\n\u001B[0m\u001B[0;32m   3459\u001B[0m             \u001B[1;32mif\u001B[0m \u001B[0mis_integer\u001B[0m\u001B[1;33m(\u001B[0m\u001B[0mindexer\u001B[0m\u001B[1;33m)\u001B[0m\u001B[1;33m:\u001B[0m\u001B[1;33m\u001B[0m\u001B[1;33m\u001B[0m\u001B[0m\n\u001B[0;32m   3460\u001B[0m                 \u001B[0mindexer\u001B[0m \u001B[1;33m=\u001B[0m \u001B[1;33m[\u001B[0m\u001B[0mindexer\u001B[0m\u001B[1;33m]\u001B[0m\u001B[1;33m\u001B[0m\u001B[1;33m\u001B[0m\u001B[0m\n",
      "\u001B[1;32mc:\\users\\le muletier\\pycharmprojects\\test-de-quenaud\\venv\\lib\\site-packages\\pandas\\core\\indexes\\base.py\u001B[0m in \u001B[0;36mget_loc\u001B[1;34m(self, key, method, tolerance)\u001B[0m\n\u001B[0;32m   3361\u001B[0m                 \u001B[1;32mreturn\u001B[0m \u001B[0mself\u001B[0m\u001B[1;33m.\u001B[0m\u001B[0m_engine\u001B[0m\u001B[1;33m.\u001B[0m\u001B[0mget_loc\u001B[0m\u001B[1;33m(\u001B[0m\u001B[0mcasted_key\u001B[0m\u001B[1;33m)\u001B[0m\u001B[1;33m\u001B[0m\u001B[1;33m\u001B[0m\u001B[0m\n\u001B[0;32m   3362\u001B[0m             \u001B[1;32mexcept\u001B[0m \u001B[0mKeyError\u001B[0m \u001B[1;32mas\u001B[0m \u001B[0merr\u001B[0m\u001B[1;33m:\u001B[0m\u001B[1;33m\u001B[0m\u001B[1;33m\u001B[0m\u001B[0m\n\u001B[1;32m-> 3363\u001B[1;33m                 \u001B[1;32mraise\u001B[0m \u001B[0mKeyError\u001B[0m\u001B[1;33m(\u001B[0m\u001B[0mkey\u001B[0m\u001B[1;33m)\u001B[0m \u001B[1;32mfrom\u001B[0m \u001B[0merr\u001B[0m\u001B[1;33m\u001B[0m\u001B[1;33m\u001B[0m\u001B[0m\n\u001B[0m\u001B[0;32m   3364\u001B[0m \u001B[1;33m\u001B[0m\u001B[0m\n\u001B[0;32m   3365\u001B[0m         \u001B[1;32mif\u001B[0m \u001B[0mis_scalar\u001B[0m\u001B[1;33m(\u001B[0m\u001B[0mkey\u001B[0m\u001B[1;33m)\u001B[0m \u001B[1;32mand\u001B[0m \u001B[0misna\u001B[0m\u001B[1;33m(\u001B[0m\u001B[0mkey\u001B[0m\u001B[1;33m)\u001B[0m \u001B[1;32mand\u001B[0m \u001B[1;32mnot\u001B[0m \u001B[0mself\u001B[0m\u001B[1;33m.\u001B[0m\u001B[0mhasnans\u001B[0m\u001B[1;33m:\u001B[0m\u001B[1;33m\u001B[0m\u001B[1;33m\u001B[0m\u001B[0m\n",
      "\u001B[1;31mKeyError\u001B[0m: 'texte.1_keyword'"
     ]
    }
   ],
   "source": [
    "list_of_keywords_text,fig_texte_keyword =analyze_columns(\"texte.1_keyword\",\"Mots clés extraient  à partir des verbes, adjectifs, adverbe et nom propre\")\n",
    "fig_texte_keyword.show(renderer=\"colab\")\n",
    "\n"
   ],
   "metadata": {
    "collapsed": false,
    "pycharm": {
     "name": "#%%\n"
    }
   }
  },
  {
   "cell_type": "code",
   "execution_count": null,
   "outputs": [],
   "source": [
    "list_of_keywords_text,fig_texte_lemmatisé_keyword =analyze_columns(\"texte_lemmatisé_keyword\",\"Mots clés extraient  à partir des verbes lematisé, adjectifs, adverbe et nom propre\")\n",
    "fig_texte_lemmatisé_keyword.show(renderer=\"colab\")\n"
   ],
   "metadata": {
    "collapsed": false,
    "pycharm": {
     "name": "#%%\n"
    }
   }
  },
  {
   "cell_type": "code",
   "execution_count": null,
   "outputs": [],
   "source": [
    "list_fig =list()\n",
    "list_of_list_keywords = list()\n",
    "for key in data.keys():\n",
    "    if \"_keyword\" in key :\n",
    "        list_keywords,fig =analyze_columns(key,\"Mots clés extraient  à partir\"+key)\n",
    "        list_of_list_keywords.append(list_keywords)\n",
    "        list_fig.append(fig)"
   ],
   "metadata": {
    "collapsed": false,
    "pycharm": {
     "name": "#%%\n"
    }
   }
  },
  {
   "cell_type": "code",
   "execution_count": null,
   "outputs": [],
   "source": [
    "len(list_of_list_keywords)\n",
    "communiste_list= list()\n",
    "for list_keywords in list_of_list_keywords :\n",
    "    for word in list_keywords :\n",
    "        if word  in list_of_list_keywords[0] and word  in list_of_list_keywords[1] and word  in list_of_list_keywords[2] and word  in list_of_list_keywords[3]:\n",
    "            communiste_list.append(word)\n",
    "\n",
    "\n",
    "\n",
    "print(\"#############################################################\")\n",
    "print(\"Nombre de mots clés générer: \"+str(len(list(set(communiste_list)))))\n",
    "print(\"#############################################################\")\n",
    "print(\"\\r\")\n",
    "\n",
    "\n",
    "collection_of_keywords=Counter(communiste_list)\n",
    "print(collection_of_keywords)\n",
    "\n",
    "#print(collection_of_keywords)\n",
    "x=list(collection_of_keywords.keys())\n",
    "y=list(collection_of_keywords.values())\n",
    "fig = go.Figure([go.Bar(x=x[:100], y=y[:100])])\n",
    "fig.update_layout(barmode='stack', xaxis={'categoryorder':'total descending'}, title=\"Regroupement des mots clés présent dans l'ensemble des champs\")\n",
    "\n"
   ],
   "metadata": {
    "collapsed": false,
    "pycharm": {
     "name": "#%%\n"
    }
   }
  },
  {
   "cell_type": "code",
   "execution_count": null,
   "outputs": [],
   "source": [
    "df_for_bar_chart= pd.DataFrame(columns=[\"keywords\",\"champs\",\"count\"])\n",
    "for key in data.keys():\n",
    "    if \"_keyword\" in key :\n",
    "        list_keywords,fig =analyze_columns(key,\"Mots clés extraient  à partir\"+key)\n",
    "        counter_keywords =Counter(list_keywords)\n",
    "        df_transit =pd.DataFrame({\n",
    "            \"keywords\":list(counter_keywords.keys()),\n",
    "            \"champs\":key,\n",
    "            \"count\":list(counter_keywords.values())\n",
    "        })\n",
    "        df_for_bar_chart = df_for_bar_chart.append(df_transit , ignore_index = True)\n",
    "\n",
    "print(df_for_bar_chart.head())\n",
    "fig = px.bar(df_for_bar_chart, x=\"keywords\", y=\"count\", color=\"champs\", title=\"Répartitions des mots clés en fonction de leurs champs\")\n",
    "fig.update_layout(barmode='stack', xaxis={'categoryorder':'total descending'})\n",
    "fig.show()"
   ],
   "metadata": {
    "collapsed": false,
    "pycharm": {
     "name": "#%%\n"
    }
   }
  },
  {
   "cell_type": "code",
   "execution_count": null,
   "outputs": [],
   "source": [
    "import plotly.express as px\n",
    "#observer  le taux de représantation du mots clés dans l'ensemble des textes"
   ],
   "metadata": {
    "collapsed": false,
    "pycharm": {
     "name": "#%%\n"
    }
   }
  },
  {
   "cell_type": "code",
   "execution_count": 15,
   "outputs": [
    {
     "data": {
      "text/plain": "               title                                               texte  \\\n0          Notations.  Dans l'S, à une heure d'affluence. Un type dan...   \n1  En partie double.   Vers le milieu de la journée et à midi, je me ...   \n2           Litotes.   Nous étions quelques-uns à nous déplacer de co...   \n3   Métaphoriquement.  Au centre du jour, jeté dans le tas des sardin...   \n4        Rétrograde.   Tu devrais ajouter un bouton à ton pardessus, ...   \n\n                                  texte_sans_entites  \\\n0  Dans l', à une heure d'affluence. Un type dans...   \n1  Vers le milieu de la journée et à midi, je me ...   \n2  Nous étions quelques-uns à nous déplacer de co...   \n3  Au centre du jour, jeté dans le tas des sardin...   \n4  Tu devrais ajouter un bouton à ton pardessus, ...   \n\n                              text_without_stop_word  \\\n0  S , heure affluence . type vingt-six ans , cha...   \n1  milieu journée midi , trouvai montai plate - f...   \n2  étions quelques-uns déplacer conserve . jeune ...   \n3  centre jour , jeté tas sardines voyageuses col...   \n4  devrais ajouter bouton pardessus , ami . renco...   \n\n                      texte_verbe_Adj_ADV_PROPN_NOUN  \\\n0  S , heure affluence . type ans , chapeau mou c...   \n1  milieu journée midi , trouvai montai plate - f...   \n2  étions déplacer conserve . jeune homme , n' av...   \n3  centre jour , jeté tas sardines voyageuses col...   \n4  devrais ajouter bouton ton pardessus , dit ami...   \n\n                   texteLem_verbe_Adj_ADV_PROPN_NOUN  \\\n0  s , heure affluence . type an , chapeau mou co...   \n1  milieu journée midi , trouver monter plate - f...   \n2  être déplacer conserve . jeune homme , n' avoi...   \n3  centre jour , jeter tas sardine voyageur coléo...   \n4  devoir ajouter bouton ton pardessus , dire ami...   \n\n                                       texte_keyword  \\\n0  type ans cordon chapeau question ruban voisin ...   \n1  sort ligne s transports place minutes terrasse...   \n2  jeune homme air instants compagnie camarade mo...   \n3  grosse carapace grand cou morne désert jour ai...   \n4  jeune homme chapeau porteur plate-forme place ...   \n\n                          texte_sans_entites_keyword  \\\n0  type ans chapeau cordon question ruban affluen...   \n1  sort transports véhicule terrasse arrière auto...   \n2  jeune homme air instants monsieur compagnie ca...   \n3  grosse carapace grand cou morne désert jour ai...   \n4  jeune homme chapeau porteur plate-forme place ...   \n\n                      text_without_stop_word_keyword  \\\n0  type question type mou cordon heure affluence ...   \n1  complet ligne s heures minutes place siège ter...   \n2  instants monsieur jeune homme compagnie camara...   \n3  voyageuses coléoptère grosse carapace poulet g...   \n4  décharné porteur chapeau forme s complet midi ...   \n\n              texte_verbe_Adj_ADV_PROPN_NOUN_keyword  \\\n0  type question type ans mou cordon heure afflue...   \n1  complet ligne s heures minutes place siège ter...   \n2  instants monsieur compagnie camarade jeune hom...   \n3  voyageuses coléoptère grosse carapace poulet g...   \n4  décharné porteur chapeau forme s complet midi ...   \n\n           texteLem_verbe_Adj_ADV_PROPN_NOUN_keyword  \n0  type an type question mou cordon heure affluen...  \n1  véhicule transport complet ligne s heure minut...  \n2  instant monsieur compagnie camarade jeune homm...  \n3  poulet grand cou revi jour gros carapace centr...  \n4  décharner porteur chapeau jeune homme complet ...  ",
      "text/html": "<div>\n<style scoped>\n    .dataframe tbody tr th:only-of-type {\n        vertical-align: middle;\n    }\n\n    .dataframe tbody tr th {\n        vertical-align: top;\n    }\n\n    .dataframe thead th {\n        text-align: right;\n    }\n</style>\n<table border=\"1\" class=\"dataframe\">\n  <thead>\n    <tr style=\"text-align: right;\">\n      <th></th>\n      <th>title</th>\n      <th>texte</th>\n      <th>texte_sans_entites</th>\n      <th>text_without_stop_word</th>\n      <th>texte_verbe_Adj_ADV_PROPN_NOUN</th>\n      <th>texteLem_verbe_Adj_ADV_PROPN_NOUN</th>\n      <th>texte_keyword</th>\n      <th>texte_sans_entites_keyword</th>\n      <th>text_without_stop_word_keyword</th>\n      <th>texte_verbe_Adj_ADV_PROPN_NOUN_keyword</th>\n      <th>texteLem_verbe_Adj_ADV_PROPN_NOUN_keyword</th>\n    </tr>\n  </thead>\n  <tbody>\n    <tr>\n      <th>0</th>\n      <td>Notations.</td>\n      <td>Dans l'S, à une heure d'affluence. Un type dan...</td>\n      <td>Dans l', à une heure d'affluence. Un type dans...</td>\n      <td>S , heure affluence . type vingt-six ans , cha...</td>\n      <td>S , heure affluence . type ans , chapeau mou c...</td>\n      <td>s , heure affluence . type an , chapeau mou co...</td>\n      <td>type ans cordon chapeau question ruban voisin ...</td>\n      <td>type ans chapeau cordon question ruban affluen...</td>\n      <td>type question type mou cordon heure affluence ...</td>\n      <td>type question type ans mou cordon heure afflue...</td>\n      <td>type an type question mou cordon heure affluen...</td>\n    </tr>\n    <tr>\n      <th>1</th>\n      <td>En partie double.</td>\n      <td>Vers le milieu de la journée et à midi, je me ...</td>\n      <td>Vers le milieu de la journée et à midi, je me ...</td>\n      <td>milieu journée midi , trouvai montai plate - f...</td>\n      <td>milieu journée midi , trouvai montai plate - f...</td>\n      <td>milieu journée midi , trouver monter plate - f...</td>\n      <td>sort ligne s transports place minutes terrasse...</td>\n      <td>sort transports véhicule terrasse arrière auto...</td>\n      <td>complet ligne s heures minutes place siège ter...</td>\n      <td>complet ligne s heures minutes place siège ter...</td>\n      <td>véhicule transport complet ligne s heure minut...</td>\n    </tr>\n    <tr>\n      <th>2</th>\n      <td>Litotes.</td>\n      <td>Nous étions quelques-uns à nous déplacer de co...</td>\n      <td>Nous étions quelques-uns à nous déplacer de co...</td>\n      <td>étions quelques-uns déplacer conserve . jeune ...</td>\n      <td>étions déplacer conserve . jeune homme , n' av...</td>\n      <td>être déplacer conserve . jeune homme , n' avoi...</td>\n      <td>jeune homme air instants compagnie camarade mo...</td>\n      <td>jeune homme air instants monsieur compagnie ca...</td>\n      <td>instants monsieur jeune homme compagnie camara...</td>\n      <td>instants monsieur compagnie camarade jeune hom...</td>\n      <td>instant monsieur compagnie camarade jeune homm...</td>\n    </tr>\n    <tr>\n      <th>3</th>\n      <td>Métaphoriquement.</td>\n      <td>Au centre du jour, jeté dans le tas des sardin...</td>\n      <td>Au centre du jour, jeté dans le tas des sardin...</td>\n      <td>centre jour , jeté tas sardines voyageuses col...</td>\n      <td>centre jour , jeté tas sardines voyageuses col...</td>\n      <td>centre jour , jeter tas sardine voyageur coléo...</td>\n      <td>grosse carapace grand cou morne désert jour ai...</td>\n      <td>grosse carapace grand cou morne désert jour ai...</td>\n      <td>voyageuses coléoptère grosse carapace poulet g...</td>\n      <td>voyageuses coléoptère grosse carapace poulet g...</td>\n      <td>poulet grand cou revi jour gros carapace centr...</td>\n    </tr>\n    <tr>\n      <th>4</th>\n      <td>Rétrograde.</td>\n      <td>Tu devrais ajouter un bouton à ton pardessus, ...</td>\n      <td>Tu devrais ajouter un bouton à ton pardessus, ...</td>\n      <td>devrais ajouter bouton pardessus , ami . renco...</td>\n      <td>devrais ajouter bouton ton pardessus , dit ami...</td>\n      <td>devoir ajouter bouton ton pardessus , dire ami...</td>\n      <td>jeune homme chapeau porteur plate-forme place ...</td>\n      <td>jeune homme chapeau porteur plate-forme place ...</td>\n      <td>décharné porteur chapeau forme s complet midi ...</td>\n      <td>décharné porteur chapeau forme s complet midi ...</td>\n      <td>décharner porteur chapeau jeune homme complet ...</td>\n    </tr>\n  </tbody>\n</table>\n</div>"
     },
     "execution_count": 15,
     "metadata": {},
     "output_type": "execute_result"
    }
   ],
   "source": [
    "data.head()"
   ],
   "metadata": {
    "collapsed": false,
    "pycharm": {
     "name": "#%%\n"
    }
   }
  },
  {
   "cell_type": "code",
   "execution_count": 16,
   "outputs": [
    {
     "ename": "SyntaxError",
     "evalue": "EOL while scanning string literal (1859331273.py, line 1)",
     "output_type": "error",
     "traceback": [
      "\u001B[1;36m  File \u001B[1;32m\"C:\\Users\\Le Muletier\\AppData\\Local\\Temp\\ipykernel_2180\\1859331273.py\"\u001B[1;36m, line \u001B[1;32m1\u001B[0m\n\u001B[1;33m    print(\"coucou)\u001B[0m\n\u001B[1;37m                  ^\u001B[0m\n\u001B[1;31mSyntaxError\u001B[0m\u001B[1;31m:\u001B[0m EOL while scanning string literal\n"
     ]
    }
   ],
   "source": [
    "print(\"coucou)"
   ],
   "metadata": {
    "collapsed": false,
    "pycharm": {
     "name": "#%%\n"
    }
   }
  }
 ],
 "metadata": {
  "kernelspec": {
   "display_name": "Python 3",
   "language": "python",
   "name": "python3"
  },
  "language_info": {
   "codemirror_mode": {
    "name": "ipython",
    "version": 2
   },
   "file_extension": ".py",
   "mimetype": "text/x-python",
   "name": "python",
   "nbconvert_exporter": "python",
   "pygments_lexer": "ipython2",
   "version": "2.7.6"
  }
 },
 "nbformat": 4,
 "nbformat_minor": 0
}