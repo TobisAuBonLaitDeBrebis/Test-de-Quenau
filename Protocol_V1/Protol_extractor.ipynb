{
 "cells": [
  {
   "cell_type": "code",
   "execution_count": 30,
   "metadata": {
    "collapsed": true
   },
   "outputs": [],
   "source": [
    "#Objectif retourner des liste de mots clés particuliére\n",
    "import numpy as np\n",
    "import pandas as pd\n",
    "import spacy\n",
    "from spacy.lang.fr.stop_words import STOP_WORDS\n",
    "import time\n",
    "from collections import Counter\n",
    "import plotly.graph_objects as go\n",
    "import plotly.express as px"
   ]
  },
  {
   "cell_type": "code",
   "execution_count": 31,
   "outputs": [
    {
     "data": {
      "text/plain": "   Unnamed: 0              title   \\\n0           0          Notations.   \n1           1  En partie double.    \n2           2           Litotes.    \n3           3   Métaphoriquement.   \n4           4        Rétrograde.    \n\n                                               texte  \\\n0  Dans l'S, à une heure d'affluence. Un type dan...   \n1  Vers le milieu de la journée et à midi, je me ...   \n2  Nous étions quelques-uns à nous déplacer de co...   \n3  Au centre du jour, jeté dans le tas des sardin...   \n4  Tu devrais ajouter un bouton à ton pardessus, ...   \n\n                                       texte_keyword  \\\n0  type ans cordon chapeau question ruban voisin ...   \n1  sort ligne s transports place minutes terrasse...   \n2  jeune homme air instants compagnie camarade mo...   \n3  grosse carapace grand cou morne désert jour ai...   \n4  jeune homme chapeau porteur plate-forme place ...   \n\n                                 keyword_without_ent  \\\n0  type ans cordon chapeau question ruban voisin ...   \n1  sort s transports place minutes terrasse arriè...   \n2  jeune homme air instants compagnie camarade mo...   \n3  grosse carapace grand cou morne désert jour ai...   \n4  jeune homme chapeau porteur plate-forme place ...   \n\n                           keyword_without_stop_word  \\\n0  type ans cordon chapeau question ruban voisin ...   \n1  sort ligne s transports place minutes terrasse...   \n2  jeune homme air instants compagnie camarade mo...   \n3  grosse carapace grand cou morne désert jour ai...   \n4  jeune homme chapeau porteur plate-forme place ...   \n\n                              keywords_lematisations  \n0  heure affluence type an chapeau cordon ruban c...  \n1  terrasse arrière autobus véhicule transport li...  \n2  jeune homme air instant Monsieur côté heure co...  \n3  jour tas sardine gros carapace poulet grand co...  \n4  avidité place autre voyageur fois jeune homme ...  ",
      "text/html": "<div>\n<style scoped>\n    .dataframe tbody tr th:only-of-type {\n        vertical-align: middle;\n    }\n\n    .dataframe tbody tr th {\n        vertical-align: top;\n    }\n\n    .dataframe thead th {\n        text-align: right;\n    }\n</style>\n<table border=\"1\" class=\"dataframe\">\n  <thead>\n    <tr style=\"text-align: right;\">\n      <th></th>\n      <th>Unnamed: 0</th>\n      <th>title</th>\n      <th>texte</th>\n      <th>texte_keyword</th>\n      <th>keyword_without_ent</th>\n      <th>keyword_without_stop_word</th>\n      <th>keywords_lematisations</th>\n    </tr>\n  </thead>\n  <tbody>\n    <tr>\n      <th>0</th>\n      <td>0</td>\n      <td>Notations.</td>\n      <td>Dans l'S, à une heure d'affluence. Un type dan...</td>\n      <td>type ans cordon chapeau question ruban voisin ...</td>\n      <td>type ans cordon chapeau question ruban voisin ...</td>\n      <td>type ans cordon chapeau question ruban voisin ...</td>\n      <td>heure affluence type an chapeau cordon ruban c...</td>\n    </tr>\n    <tr>\n      <th>1</th>\n      <td>1</td>\n      <td>En partie double.</td>\n      <td>Vers le milieu de la journée et à midi, je me ...</td>\n      <td>sort ligne s transports place minutes terrasse...</td>\n      <td>sort s transports place minutes terrasse arriè...</td>\n      <td>sort ligne s transports place minutes terrasse...</td>\n      <td>terrasse arrière autobus véhicule transport li...</td>\n    </tr>\n    <tr>\n      <th>2</th>\n      <td>2</td>\n      <td>Litotes.</td>\n      <td>Nous étions quelques-uns à nous déplacer de co...</td>\n      <td>jeune homme air instants compagnie camarade mo...</td>\n      <td>jeune homme air instants compagnie camarade mo...</td>\n      <td>jeune homme air instants compagnie camarade mo...</td>\n      <td>jeune homme air instant Monsieur côté heure co...</td>\n    </tr>\n    <tr>\n      <th>3</th>\n      <td>3</td>\n      <td>Métaphoriquement.</td>\n      <td>Au centre du jour, jeté dans le tas des sardin...</td>\n      <td>grosse carapace grand cou morne désert jour ai...</td>\n      <td>grosse carapace grand cou morne désert jour ai...</td>\n      <td>grosse carapace grand cou morne désert jour ai...</td>\n      <td>jour tas sardine gros carapace poulet grand co...</td>\n    </tr>\n    <tr>\n      <th>4</th>\n      <td>4</td>\n      <td>Rétrograde.</td>\n      <td>Tu devrais ajouter un bouton à ton pardessus, ...</td>\n      <td>jeune homme chapeau porteur plate-forme place ...</td>\n      <td>jeune homme chapeau porteur plate-forme place ...</td>\n      <td>jeune homme chapeau porteur plate-forme place ...</td>\n      <td>avidité place autre voyageur fois jeune homme ...</td>\n    </tr>\n  </tbody>\n</table>\n</div>"
     },
     "execution_count": 31,
     "metadata": {},
     "output_type": "execute_result"
    }
   ],
   "source": [
    "#df = pd.read_csv(\"data/Keyword_with_PKE_queneau_fr.csv\")\n",
    "df = pd.read_csv(\"data/Keyword_with_PKE_queneau_frprotocol_V2.csv\")\n",
    "df.head()"
   ],
   "metadata": {
    "collapsed": false,
    "pycharm": {
     "name": "#%%\n"
    }
   }
  },
  {
   "cell_type": "code",
   "execution_count": 32,
   "outputs": [
    {
     "data": {
      "text/plain": "pandas.core.frame.DataFrame"
     },
     "execution_count": 32,
     "metadata": {},
     "output_type": "execute_result"
    }
   ],
   "source": [
    "keyword_key =[key for key in df.keys() if \"keyword\" in key]\n",
    "test= dict()\n",
    "for key in keyword_key:\n",
    "    test.update({key:pd.DataFrame()})\n",
    "type(test[\"texte_keyword\"])"
   ],
   "metadata": {
    "collapsed": false,
    "pycharm": {
     "name": "#%%\n"
    }
   }
  },
  {
   "cell_type": "code",
   "execution_count": 33,
   "outputs": [],
   "source": [
    "nlp = spacy.load(\"fr_core_news_md\")  # chargement du modéle dans Spacy\n",
    "nlp.Defaults.stop_words |= STOP_WORDS\n",
    "# Mots clés de base\n",
    "#df=df[0:10]"
   ],
   "metadata": {
    "collapsed": false,
    "pycharm": {
     "name": "#%%\n"
    }
   }
  },
  {
   "cell_type": "code",
   "execution_count": 34,
   "outputs": [],
   "source": [
    "# initialisation a vide d'un data frame pour compter les mots clés en fonction des textexes\n",
    "keyword_key =[key for key in df.keys() if \"keyword\" in key]\n",
    "dict_of_dataframe ={}\n",
    "dict_total_keywords_list={}\n",
    "for key in keyword_key:\n",
    "    dict_of_dataframe.update({key:pd.DataFrame()})\n",
    "    dict_total_keywords_list.update({key:list()})\n",
    "    for keywords in df[:][key]:\n",
    "        if type(keywords)== str:\n",
    "            for keyword in keywords.split():\n",
    "                dict_total_keywords_list[key].append(keyword)\n",
    "\n",
    "    dict_total_keywords_list[key]=list(set(dict_total_keywords_list[key]))\n",
    "    dict_total_keywords_list[key] = [word for word in dict_total_keywords_list[key] if not word in STOP_WORDS]\n",
    "    dict_total_keywords_list[key] = [word for word in dict_total_keywords_list[key] if len(word)>3]\n",
    "    dict_of_dataframe[key] = pd.DataFrame(index=df[\"title \"], columns=dict_total_keywords_list[key])\n",
    "\n"
   ],
   "metadata": {
    "collapsed": false,
    "pycharm": {
     "name": "#%%\n"
    }
   }
  },
  {
   "cell_type": "code",
   "execution_count": 34,
   "outputs": [],
   "source": [],
   "metadata": {
    "collapsed": false,
    "pycharm": {
     "name": "#%%\n"
    }
   }
  },
  {
   "cell_type": "code",
   "execution_count": 35,
   "outputs": [
    {
     "data": {
      "text/plain": "dict_keys(['texte_keyword', 'keyword_without_ent', 'keyword_without_stop_word', 'keywords_lematisations'])"
     },
     "execution_count": 35,
     "metadata": {},
     "output_type": "execute_result"
    }
   ],
   "source": [
    "list_for_counter_keyword=list()\n",
    "#remplis le dataframe précédament crée  en comptant le nombre les mots clés présant dans chaque texte.\n",
    "dict_of_list_for_counter_keyword ={}\n",
    "for key in dict_of_dataframe:\n",
    "    dict_of_list_for_counter_keyword.update({key:list()})\n",
    "    for index , row in dict_of_dataframe[key].iterrows():\n",
    "        for keyword in dict_total_keywords_list[key]:\n",
    "            #print(str(df[\"texte\"][df[\"title \"] == index])[3:-26].count(keyword))\n",
    "            dict_of_dataframe[key].loc[index,keyword] = str(df[\"texte\"][df[\"title \"] == index])[3:-26].count(keyword)\n",
    "            \"\"\"\n",
    "            if  keyword in str(df[\"texte\"][df[\"title \"] == index]).split():\n",
    "                df_test.loc[index, keyword] = 1\n",
    "                list_for_counter_keyword.append(keyword)\n",
    "            else:\n",
    "                df_test.loc[index, keyword] = 0\n",
    "            \"\"\"\n",
    "    dict_of_dataframe[key].loc[\"Total\"] = dict_of_dataframe[key].sum()\n",
    "dict_of_list_for_counter_keyword.keys()"
   ],
   "metadata": {
    "collapsed": false,
    "pycharm": {
     "name": "#%%\n"
    }
   }
  },
  {
   "cell_type": "code",
   "execution_count": 36,
   "outputs": [
    {
     "data": {
      "text/plain": "                   essus citrouille parc tournant genoux hochet parfaite  \\\ntitle                                                                      \nNotations.             0          0    0        0      0      0        0   \nEn partie double.      0          0    0        0      0      0        0   \nLitotes.               0          0    0        0      0      0        0   \nMétaphoriquement.      0          0    0        0      0      0        0   \nRétrograde.            1          0    0        0      0      0        0   \n...                  ...        ...  ...      ...    ...    ...      ...   \nPaysan                 0          0    0        0      0      0        0   \nInterjections.         0          0    0        0      0      0        0   \nPrécieux.              0          0    0        0      0      0        0   \nInattendu.             0          0    0        0      0      0        0   \nTotal                  1          0    1        0      0      0        0   \n\n                   entrée plaisir gars  ... jolis peehay saint-lazule  \\\ntitle                                   ...                             \nNotations.              0       0    0  ...     0      0            0   \nEn partie double.       0       0    0  ...     0      0            0   \nLitotes.                0       0    0  ...     0      0            0   \nMétaphoriquement.       0       0    0  ...     0      0            0   \nRétrograde.             0       0    0  ...     0      0            0   \n...                   ...     ...  ...  ...   ...    ...          ...   \nPaysan                  0       0    0  ...     0      0            0   \nInterjections.          0       0    0  ...     0      0            0   \nPrécieux.               0       0    0  ...     0      0            0   \nInattendu.              0       0    0  ...     0      0            0   \nTotal                   0       0    0  ...     0      0            0   \n\n                   fremarquai nubar saint-dizier. descend pieds site hexagone  \ntitle                                                                          \nNotations.                  0     0             0       0     0    0        0  \nEn partie double.           0     0             0       0     0    0        0  \nLitotes.                    0     0             0       0     0    0        0  \nMétaphoriquement.           0     0             0       0     0    0        0  \nRétrograde.                 0     0             0       0     0    0        0  \n...                       ...   ...           ...     ...   ...  ...      ...  \nPaysan                      0     0             0       0     0    0        0  \nInterjections.              0     0             0       0     0    0        0  \nPrécieux.                   0     0             0       0     0    0        0  \nInattendu.                  0     0             0       0     0    0        0  \nTotal                       0     0             0       0     1    0        1  \n\n[100 rows x 672 columns]",
      "text/html": "<div>\n<style scoped>\n    .dataframe tbody tr th:only-of-type {\n        vertical-align: middle;\n    }\n\n    .dataframe tbody tr th {\n        vertical-align: top;\n    }\n\n    .dataframe thead th {\n        text-align: right;\n    }\n</style>\n<table border=\"1\" class=\"dataframe\">\n  <thead>\n    <tr style=\"text-align: right;\">\n      <th></th>\n      <th>essus</th>\n      <th>citrouille</th>\n      <th>parc</th>\n      <th>tournant</th>\n      <th>genoux</th>\n      <th>hochet</th>\n      <th>parfaite</th>\n      <th>entrée</th>\n      <th>plaisir</th>\n      <th>gars</th>\n      <th>...</th>\n      <th>jolis</th>\n      <th>peehay</th>\n      <th>saint-lazule</th>\n      <th>fremarquai</th>\n      <th>nubar</th>\n      <th>saint-dizier.</th>\n      <th>descend</th>\n      <th>pieds</th>\n      <th>site</th>\n      <th>hexagone</th>\n    </tr>\n    <tr>\n      <th>title</th>\n      <th></th>\n      <th></th>\n      <th></th>\n      <th></th>\n      <th></th>\n      <th></th>\n      <th></th>\n      <th></th>\n      <th></th>\n      <th></th>\n      <th></th>\n      <th></th>\n      <th></th>\n      <th></th>\n      <th></th>\n      <th></th>\n      <th></th>\n      <th></th>\n      <th></th>\n      <th></th>\n      <th></th>\n    </tr>\n  </thead>\n  <tbody>\n    <tr>\n      <th>Notations.</th>\n      <td>0</td>\n      <td>0</td>\n      <td>0</td>\n      <td>0</td>\n      <td>0</td>\n      <td>0</td>\n      <td>0</td>\n      <td>0</td>\n      <td>0</td>\n      <td>0</td>\n      <td>...</td>\n      <td>0</td>\n      <td>0</td>\n      <td>0</td>\n      <td>0</td>\n      <td>0</td>\n      <td>0</td>\n      <td>0</td>\n      <td>0</td>\n      <td>0</td>\n      <td>0</td>\n    </tr>\n    <tr>\n      <th>En partie double.</th>\n      <td>0</td>\n      <td>0</td>\n      <td>0</td>\n      <td>0</td>\n      <td>0</td>\n      <td>0</td>\n      <td>0</td>\n      <td>0</td>\n      <td>0</td>\n      <td>0</td>\n      <td>...</td>\n      <td>0</td>\n      <td>0</td>\n      <td>0</td>\n      <td>0</td>\n      <td>0</td>\n      <td>0</td>\n      <td>0</td>\n      <td>0</td>\n      <td>0</td>\n      <td>0</td>\n    </tr>\n    <tr>\n      <th>Litotes.</th>\n      <td>0</td>\n      <td>0</td>\n      <td>0</td>\n      <td>0</td>\n      <td>0</td>\n      <td>0</td>\n      <td>0</td>\n      <td>0</td>\n      <td>0</td>\n      <td>0</td>\n      <td>...</td>\n      <td>0</td>\n      <td>0</td>\n      <td>0</td>\n      <td>0</td>\n      <td>0</td>\n      <td>0</td>\n      <td>0</td>\n      <td>0</td>\n      <td>0</td>\n      <td>0</td>\n    </tr>\n    <tr>\n      <th>Métaphoriquement.</th>\n      <td>0</td>\n      <td>0</td>\n      <td>0</td>\n      <td>0</td>\n      <td>0</td>\n      <td>0</td>\n      <td>0</td>\n      <td>0</td>\n      <td>0</td>\n      <td>0</td>\n      <td>...</td>\n      <td>0</td>\n      <td>0</td>\n      <td>0</td>\n      <td>0</td>\n      <td>0</td>\n      <td>0</td>\n      <td>0</td>\n      <td>0</td>\n      <td>0</td>\n      <td>0</td>\n    </tr>\n    <tr>\n      <th>Rétrograde.</th>\n      <td>1</td>\n      <td>0</td>\n      <td>0</td>\n      <td>0</td>\n      <td>0</td>\n      <td>0</td>\n      <td>0</td>\n      <td>0</td>\n      <td>0</td>\n      <td>0</td>\n      <td>...</td>\n      <td>0</td>\n      <td>0</td>\n      <td>0</td>\n      <td>0</td>\n      <td>0</td>\n      <td>0</td>\n      <td>0</td>\n      <td>0</td>\n      <td>0</td>\n      <td>0</td>\n    </tr>\n    <tr>\n      <th>...</th>\n      <td>...</td>\n      <td>...</td>\n      <td>...</td>\n      <td>...</td>\n      <td>...</td>\n      <td>...</td>\n      <td>...</td>\n      <td>...</td>\n      <td>...</td>\n      <td>...</td>\n      <td>...</td>\n      <td>...</td>\n      <td>...</td>\n      <td>...</td>\n      <td>...</td>\n      <td>...</td>\n      <td>...</td>\n      <td>...</td>\n      <td>...</td>\n      <td>...</td>\n      <td>...</td>\n    </tr>\n    <tr>\n      <th>Paysan</th>\n      <td>0</td>\n      <td>0</td>\n      <td>0</td>\n      <td>0</td>\n      <td>0</td>\n      <td>0</td>\n      <td>0</td>\n      <td>0</td>\n      <td>0</td>\n      <td>0</td>\n      <td>...</td>\n      <td>0</td>\n      <td>0</td>\n      <td>0</td>\n      <td>0</td>\n      <td>0</td>\n      <td>0</td>\n      <td>0</td>\n      <td>0</td>\n      <td>0</td>\n      <td>0</td>\n    </tr>\n    <tr>\n      <th>Interjections.</th>\n      <td>0</td>\n      <td>0</td>\n      <td>0</td>\n      <td>0</td>\n      <td>0</td>\n      <td>0</td>\n      <td>0</td>\n      <td>0</td>\n      <td>0</td>\n      <td>0</td>\n      <td>...</td>\n      <td>0</td>\n      <td>0</td>\n      <td>0</td>\n      <td>0</td>\n      <td>0</td>\n      <td>0</td>\n      <td>0</td>\n      <td>0</td>\n      <td>0</td>\n      <td>0</td>\n    </tr>\n    <tr>\n      <th>Précieux.</th>\n      <td>0</td>\n      <td>0</td>\n      <td>0</td>\n      <td>0</td>\n      <td>0</td>\n      <td>0</td>\n      <td>0</td>\n      <td>0</td>\n      <td>0</td>\n      <td>0</td>\n      <td>...</td>\n      <td>0</td>\n      <td>0</td>\n      <td>0</td>\n      <td>0</td>\n      <td>0</td>\n      <td>0</td>\n      <td>0</td>\n      <td>0</td>\n      <td>0</td>\n      <td>0</td>\n    </tr>\n    <tr>\n      <th>Inattendu.</th>\n      <td>0</td>\n      <td>0</td>\n      <td>0</td>\n      <td>0</td>\n      <td>0</td>\n      <td>0</td>\n      <td>0</td>\n      <td>0</td>\n      <td>0</td>\n      <td>0</td>\n      <td>...</td>\n      <td>0</td>\n      <td>0</td>\n      <td>0</td>\n      <td>0</td>\n      <td>0</td>\n      <td>0</td>\n      <td>0</td>\n      <td>0</td>\n      <td>0</td>\n      <td>0</td>\n    </tr>\n    <tr>\n      <th>Total</th>\n      <td>1</td>\n      <td>0</td>\n      <td>1</td>\n      <td>0</td>\n      <td>0</td>\n      <td>0</td>\n      <td>0</td>\n      <td>0</td>\n      <td>0</td>\n      <td>0</td>\n      <td>...</td>\n      <td>0</td>\n      <td>0</td>\n      <td>0</td>\n      <td>0</td>\n      <td>0</td>\n      <td>0</td>\n      <td>0</td>\n      <td>1</td>\n      <td>0</td>\n      <td>1</td>\n    </tr>\n  </tbody>\n</table>\n<p>100 rows × 672 columns</p>\n</div>"
     },
     "execution_count": 36,
     "metadata": {},
     "output_type": "execute_result"
    }
   ],
   "source": [
    "dict_of_dataframe[\"texte_keyword\"]"
   ],
   "metadata": {
    "collapsed": false,
    "pycharm": {
     "name": "#%%\n"
    }
   }
  },
  {
   "cell_type": "code",
   "execution_count": 37,
   "outputs": [
    {
     "data": {
      "text/plain": "dict_keys(['texte_keyword', 'keyword_without_ent', 'keyword_without_stop_word', 'keywords_lematisations'])"
     },
     "execution_count": 37,
     "metadata": {},
     "output_type": "execute_result"
    }
   ],
   "source": [
    "#visualisation de la répartitions des mots clés et initialisation d'un daframe permettant la visualisation de la répartition des mots clés.\n",
    "top_ten_dict ={}\n",
    "for key1 in dict_of_dataframe:\n",
    "    top_ten_dict.update({key1:pd.DataFrame(columns=[\"keys\",\"values\"])})\n",
    "    i=0\n",
    "\n",
    "    for key2 in dict_of_dataframe[key1].keys():\n",
    "        top_ten_dict[key1].loc[i,\"keys\"]=key2\n",
    "        top_ten_dict[key1].loc[i,\"values\"]=dict_of_dataframe[key1].loc[\"Total\"][key2]\n",
    "        i=i+1\n",
    "\n",
    "top_ten_dict.keys()"
   ],
   "metadata": {
    "collapsed": false,
    "pycharm": {
     "name": "#%%\n"
    }
   }
  },
  {
   "cell_type": "code",
   "execution_count": 38,
   "outputs": [
    {
     "data": {
      "text/plain": "              keys values\n0            essus      1\n1       citrouille      0\n2             parc      1\n3         tournant      0\n4           genoux      0\n..             ...    ...\n667  saint-dizier.      0\n668        descend      0\n669          pieds      1\n670           site      0\n671       hexagone      1\n\n[672 rows x 2 columns]",
      "text/html": "<div>\n<style scoped>\n    .dataframe tbody tr th:only-of-type {\n        vertical-align: middle;\n    }\n\n    .dataframe tbody tr th {\n        vertical-align: top;\n    }\n\n    .dataframe thead th {\n        text-align: right;\n    }\n</style>\n<table border=\"1\" class=\"dataframe\">\n  <thead>\n    <tr style=\"text-align: right;\">\n      <th></th>\n      <th>keys</th>\n      <th>values</th>\n    </tr>\n  </thead>\n  <tbody>\n    <tr>\n      <th>0</th>\n      <td>essus</td>\n      <td>1</td>\n    </tr>\n    <tr>\n      <th>1</th>\n      <td>citrouille</td>\n      <td>0</td>\n    </tr>\n    <tr>\n      <th>2</th>\n      <td>parc</td>\n      <td>1</td>\n    </tr>\n    <tr>\n      <th>3</th>\n      <td>tournant</td>\n      <td>0</td>\n    </tr>\n    <tr>\n      <th>4</th>\n      <td>genoux</td>\n      <td>0</td>\n    </tr>\n    <tr>\n      <th>...</th>\n      <td>...</td>\n      <td>...</td>\n    </tr>\n    <tr>\n      <th>667</th>\n      <td>saint-dizier.</td>\n      <td>0</td>\n    </tr>\n    <tr>\n      <th>668</th>\n      <td>descend</td>\n      <td>0</td>\n    </tr>\n    <tr>\n      <th>669</th>\n      <td>pieds</td>\n      <td>1</td>\n    </tr>\n    <tr>\n      <th>670</th>\n      <td>site</td>\n      <td>0</td>\n    </tr>\n    <tr>\n      <th>671</th>\n      <td>hexagone</td>\n      <td>1</td>\n    </tr>\n  </tbody>\n</table>\n<p>672 rows × 2 columns</p>\n</div>"
     },
     "execution_count": 38,
     "metadata": {},
     "output_type": "execute_result"
    }
   ],
   "source": [
    "top_ten_dict[\"texte_keyword\"]"
   ],
   "metadata": {
    "collapsed": false,
    "pycharm": {
     "name": "#%%\n"
    }
   }
  },
  {
   "cell_type": "code",
   "execution_count": 39,
   "outputs": [],
   "source": [
    "#Récuperation des  10 mots clés les plus représanter sous forme de list()\n",
    "for key in top_ten_dict:\n",
    "    top_ten_dict[key] =top_ten_dict[key].sort_values(\"values\",ascending=False)\n",
    "    top_ten_dict[key][:10].head()\n",
    "    top_ten_dict[key] = list(top_ten_dict[key][\"keys\"][:10])\n"
   ],
   "metadata": {
    "collapsed": false,
    "pycharm": {
     "name": "#%%\n"
    }
   }
  },
  {
   "cell_type": "code",
   "execution_count": 40,
   "outputs": [],
   "source": [
    "#récupération des titres des textes comportant le top 10 des mots clés\n",
    "validated_texte_dict={}\n",
    "for key in top_ten_dict:\n",
    "    validated_texte_dict.update({key:list()})\n",
    "    for index, row in df.iterrows():\n",
    "        for keyword in top_ten_dict[key]:\n",
    "            if keyword in row[\"texte\"]:\n",
    "                validated_texte_dict[key].append(row[\"title \"])"
   ],
   "metadata": {
    "collapsed": false,
    "pycharm": {
     "name": "#%%\n"
    }
   }
  },
  {
   "cell_type": "code",
   "execution_count": 41,
   "outputs": [],
   "source": [
    "dict_of_df_filtred={}\n",
    "for key in validated_texte_dict:\n",
    "    dict_of_df_filtred.update({key:pd.DataFrame()})\n",
    "    dict_of_df_filtred[key] = df[df['title '].isin(validated_texte_dict[key])]\n"
   ],
   "metadata": {
    "collapsed": false,
    "pycharm": {
     "name": "#%%\n"
    }
   }
  },
  {
   "cell_type": "code",
   "execution_count": 42,
   "outputs": [
    {
     "data": {
      "text/plain": "dict_keys(['texte_keyword', 'keyword_without_ent', 'keyword_without_stop_word', 'keywords_lematisations'])"
     },
     "execution_count": 42,
     "metadata": {},
     "output_type": "execute_result"
    }
   ],
   "source": [
    "dict_of_df_filtred.keys()"
   ],
   "metadata": {
    "collapsed": false,
    "pycharm": {
     "name": "#%%\n"
    }
   }
  },
  {
   "cell_type": "code",
   "execution_count": 43,
   "outputs": [
    {
     "data": {
      "text/plain": "    Unnamed: 0              title   \\\n0            0          Notations.   \n1            1  En partie double.    \n2            2           Litotes.    \n3            3   Métaphoriquement.   \n4            4        Rétrograde.    \n..         ...                 ...   \n92          92        Probabiliste   \n93          93          Portrait.    \n95          95             Paysan    \n97          97          Précieux.    \n98          98         Inattendu.    \n\n                                                texte  \\\n0   Dans l'S, à une heure d'affluence. Un type dan...   \n1   Vers le milieu de la journée et à midi, je me ...   \n2   Nous étions quelques-uns à nous déplacer de co...   \n3   Au centre du jour, jeté dans le tas des sardin...   \n4   Tu devrais ajouter un bouton à ton pardessus, ...   \n..                                                ...   \n92  Les contacts entre habitants d'une grande vill...   \n93  Le stil est un bipède au cou très long qui han...   \n95  J’avions pas de ptits bouts de papiers avec un...   \n97  C'était aux alentours d'un juillet de midi. Le...   \n98  Les copains étaient assis autour d'une table d...   \n\n                                        texte_keyword  \\\n0   type ans cordon chapeau question ruban voisin ...   \n1   sort ligne s transports place minutes terrasse...   \n2   jeune homme air instants compagnie camarade mo...   \n3   grosse carapace grand cou morne désert jour ai...   \n4   jeune homme chapeau porteur plate-forme place ...   \n..                                                ...   \n92  grande ville contacts transports habitants tro...   \n93  passage sorte haut grâce autre bipède gare sai...   \n95  grand flandrin grande ville grande méchanceté ...   \n97  horizon origine petit lot fleur plate-forme ar...   \n98  - peuh - tiens - albert robert rené autre part...   \n\n                                  keyword_without_ent  \\\n0   type ans cordon chapeau question ruban voisin ...   \n1   sort s transports place minutes terrasse arriè...   \n2   jeune homme air instants compagnie camarade mo...   \n3   grosse carapace grand cou morne désert jour ai...   \n4   jeune homme chapeau porteur plate-forme place ...   \n..                                                ...   \n92  grande ville contacts transports habitants tro...   \n93  passage sorte haut grâce autre bipède saint-la...   \n95  grand flandrin grande ville grande méchanceté ...   \n97  horizon origine petit lot fleur plate-forme ar...   \n98  - peuh - tiens - albert robert rené autre part...   \n\n                            keyword_without_stop_word  \\\n0   type ans cordon chapeau question ruban voisin ...   \n1   sort ligne s transports place minutes terrasse...   \n2   jeune homme air instants compagnie camarade mo...   \n3   grosse carapace grand cou morne désert jour ai...   \n4   jeune homme chapeau porteur plate-forme place ...   \n..                                                ...   \n92  grande ville contacts transports habitants ren...   \n93  passage sorte haut grâce bipède gare saint-laz...   \n95  grand flandrin grande ville grande méchanceté ...   \n97  horizon origine petit lot fleur plate-forme ar...   \n98  - peuh - - albert robert rené part drôle copai...   \n\n                               keywords_lematisations  \n0   heure affluence type an chapeau cordon ruban c...  \n1   terrasse arrière autobus véhicule transport li...  \n2   jeune homme air instant Monsieur côté heure co...  \n3   jour tas sardine gros carapace poulet grand co...  \n4   avidité place autre voyageur fois jeune homme ...  \n..                                                ...  \n92  contact habitant grand ville général rencontre...  \n93  stil bipède ligne gare mue hiver passage corps...  \n95  steu carriole steu steu carriole coup ceu queu...  \n97  midi soleil fleur horizon asphalte origine aut...  \n98  copain - - - - - - - - drôle - - - - - - - - -...  \n\n[87 rows x 7 columns]",
      "text/html": "<div>\n<style scoped>\n    .dataframe tbody tr th:only-of-type {\n        vertical-align: middle;\n    }\n\n    .dataframe tbody tr th {\n        vertical-align: top;\n    }\n\n    .dataframe thead th {\n        text-align: right;\n    }\n</style>\n<table border=\"1\" class=\"dataframe\">\n  <thead>\n    <tr style=\"text-align: right;\">\n      <th></th>\n      <th>Unnamed: 0</th>\n      <th>title</th>\n      <th>texte</th>\n      <th>texte_keyword</th>\n      <th>keyword_without_ent</th>\n      <th>keyword_without_stop_word</th>\n      <th>keywords_lematisations</th>\n    </tr>\n  </thead>\n  <tbody>\n    <tr>\n      <th>0</th>\n      <td>0</td>\n      <td>Notations.</td>\n      <td>Dans l'S, à une heure d'affluence. Un type dan...</td>\n      <td>type ans cordon chapeau question ruban voisin ...</td>\n      <td>type ans cordon chapeau question ruban voisin ...</td>\n      <td>type ans cordon chapeau question ruban voisin ...</td>\n      <td>heure affluence type an chapeau cordon ruban c...</td>\n    </tr>\n    <tr>\n      <th>1</th>\n      <td>1</td>\n      <td>En partie double.</td>\n      <td>Vers le milieu de la journée et à midi, je me ...</td>\n      <td>sort ligne s transports place minutes terrasse...</td>\n      <td>sort s transports place minutes terrasse arriè...</td>\n      <td>sort ligne s transports place minutes terrasse...</td>\n      <td>terrasse arrière autobus véhicule transport li...</td>\n    </tr>\n    <tr>\n      <th>2</th>\n      <td>2</td>\n      <td>Litotes.</td>\n      <td>Nous étions quelques-uns à nous déplacer de co...</td>\n      <td>jeune homme air instants compagnie camarade mo...</td>\n      <td>jeune homme air instants compagnie camarade mo...</td>\n      <td>jeune homme air instants compagnie camarade mo...</td>\n      <td>jeune homme air instant Monsieur côté heure co...</td>\n    </tr>\n    <tr>\n      <th>3</th>\n      <td>3</td>\n      <td>Métaphoriquement.</td>\n      <td>Au centre du jour, jeté dans le tas des sardin...</td>\n      <td>grosse carapace grand cou morne désert jour ai...</td>\n      <td>grosse carapace grand cou morne désert jour ai...</td>\n      <td>grosse carapace grand cou morne désert jour ai...</td>\n      <td>jour tas sardine gros carapace poulet grand co...</td>\n    </tr>\n    <tr>\n      <th>4</th>\n      <td>4</td>\n      <td>Rétrograde.</td>\n      <td>Tu devrais ajouter un bouton à ton pardessus, ...</td>\n      <td>jeune homme chapeau porteur plate-forme place ...</td>\n      <td>jeune homme chapeau porteur plate-forme place ...</td>\n      <td>jeune homme chapeau porteur plate-forme place ...</td>\n      <td>avidité place autre voyageur fois jeune homme ...</td>\n    </tr>\n    <tr>\n      <th>...</th>\n      <td>...</td>\n      <td>...</td>\n      <td>...</td>\n      <td>...</td>\n      <td>...</td>\n      <td>...</td>\n      <td>...</td>\n    </tr>\n    <tr>\n      <th>92</th>\n      <td>92</td>\n      <td>Probabiliste</td>\n      <td>Les contacts entre habitants d'une grande vill...</td>\n      <td>grande ville contacts transports habitants tro...</td>\n      <td>grande ville contacts transports habitants tro...</td>\n      <td>grande ville contacts transports habitants ren...</td>\n      <td>contact habitant grand ville général rencontre...</td>\n    </tr>\n    <tr>\n      <th>93</th>\n      <td>93</td>\n      <td>Portrait.</td>\n      <td>Le stil est un bipède au cou très long qui han...</td>\n      <td>passage sorte haut grâce autre bipède gare sai...</td>\n      <td>passage sorte haut grâce autre bipède saint-la...</td>\n      <td>passage sorte haut grâce bipède gare saint-laz...</td>\n      <td>stil bipède ligne gare mue hiver passage corps...</td>\n    </tr>\n    <tr>\n      <th>95</th>\n      <td>95</td>\n      <td>Paysan</td>\n      <td>J’avions pas de ptits bouts de papiers avec un...</td>\n      <td>grand flandrin grande ville grande méchanceté ...</td>\n      <td>grand flandrin grande ville grande méchanceté ...</td>\n      <td>grand flandrin grande ville grande méchanceté ...</td>\n      <td>steu carriole steu steu carriole coup ceu queu...</td>\n    </tr>\n    <tr>\n      <th>97</th>\n      <td>97</td>\n      <td>Précieux.</td>\n      <td>C'était aux alentours d'un juillet de midi. Le...</td>\n      <td>horizon origine petit lot fleur plate-forme ar...</td>\n      <td>horizon origine petit lot fleur plate-forme ar...</td>\n      <td>horizon origine petit lot fleur plate-forme ar...</td>\n      <td>midi soleil fleur horizon asphalte origine aut...</td>\n    </tr>\n    <tr>\n      <th>98</th>\n      <td>98</td>\n      <td>Inattendu.</td>\n      <td>Les copains étaient assis autour d'une table d...</td>\n      <td>- peuh - tiens - albert robert rené autre part...</td>\n      <td>- peuh - tiens - albert robert rené autre part...</td>\n      <td>- peuh - - albert robert rené part drôle copai...</td>\n      <td>copain - - - - - - - - drôle - - - - - - - - -...</td>\n    </tr>\n  </tbody>\n</table>\n<p>87 rows × 7 columns</p>\n</div>"
     },
     "execution_count": 43,
     "metadata": {},
     "output_type": "execute_result"
    }
   ],
   "source": [
    "dict_of_df_filtred[\"keywords_lematisations\"]"
   ],
   "metadata": {
    "collapsed": false,
    "pycharm": {
     "name": "#%%\n"
    }
   }
  },
  {
   "cell_type": "code",
   "execution_count": 44,
   "outputs": [],
   "source": [
    "dict_of_dataframe_filtred={}\n",
    "dict_total_keywords_list_filtred={}\n",
    "for key in dict_of_df_filtred:\n",
    "    dict_of_dataframe_filtred.update({key:pd.DataFrame()})\n",
    "    dict_total_keywords_list_filtred.update({key:list()})\n",
    "    for keywords in dict_of_df_filtred[key][key]:\n",
    "        if type(keywords)== str:\n",
    "            for keyword in keywords.split():\n",
    "                dict_total_keywords_list_filtred[key].append(keyword)\n",
    "    dict_total_keywords_list_filtred[key]=list(set(dict_total_keywords_list_filtred[key]))\n",
    "    dict_total_keywords_list_filtred[key] = [word for word in dict_total_keywords_list_filtred[key] if not word in STOP_WORDS]\n",
    "    dict_total_keywords_list_filtred[key] = [word for word in dict_total_keywords_list_filtred[key] if len(word)>3]\n",
    "    dict_of_dataframe_filtred[key] = pd.DataFrame(index=dict_of_df_filtred[key][\"title \"], columns=dict_total_keywords_list_filtred[key])\n"
   ],
   "metadata": {
    "collapsed": false,
    "pycharm": {
     "name": "#%%\n"
    }
   }
  },
  {
   "cell_type": "code",
   "execution_count": 45,
   "outputs": [
    {
     "data": {
      "text/plain": "88"
     },
     "execution_count": 45,
     "metadata": {},
     "output_type": "execute_result"
    }
   ],
   "source": [
    "len(dict_of_dataframe_filtred[\"keyword_without_ent\"])"
   ],
   "metadata": {
    "collapsed": false,
    "pycharm": {
     "name": "#%%\n"
    }
   }
  },
  {
   "cell_type": "code",
   "execution_count": 46,
   "outputs": [],
   "source": [
    "#remplis le dataframe précédament crée  en comptant le nombre les mots clés présant dans chaque texte.\n",
    "#\n",
    "for key in dict_of_dataframe_filtred:\n",
    "    #dict_of_list_for_counter_keyword.update({key:list()})\n",
    "    for index , row in dict_of_dataframe_filtred[key].iterrows():\n",
    "        for keyword in dict_total_keywords_list_filtred[key]:\n",
    "            #print(str(df[\"texte\"][df[\"title \"] == index])[3:-26].count(keyword))\n",
    "            dict_of_dataframe_filtred[key].loc[index,keyword] = str(dict_of_df_filtred[key][\"texte\"][dict_of_df_filtred[key][\"title \"] == index])[3:-26].count(keyword)\n",
    "            \"\"\"\n",
    "            if  keyword in str(df[\"texte\"][df[\"title \"] == index]).split():\n",
    "                df_test.loc[index, keyword] = 1\n",
    "                list_for_counter_keyword.append(keyword)\n",
    "            else:\n",
    "                df_test.loc[index, keyword] = 0\n",
    "            \"\"\"\n",
    "    dict_of_dataframe_filtred[key].loc[\"Total\"] = dict_of_dataframe_filtred[key].sum()\n",
    "\n",
    "#dict_of_list_for_counter_keyword.keys()"
   ],
   "metadata": {
    "collapsed": false,
    "pycharm": {
     "name": "#%%\n"
    }
   }
  },
  {
   "cell_type": "code",
   "execution_count": 47,
   "outputs": [
    {
     "data": {
      "text/plain": "                   essus parc tournant genoux hochet parfaite entrée plaisir  \\\ntitle                                                                          \nNotations.             0    0        0      0      0        0      0       0   \nEn partie double.      0    0        0      0      0        0      0       0   \nLitotes.               0    0        0      0      0        0      0       0   \nMétaphoriquement.      0    0        0      0      0        0      0       0   \nRétrograde.            1    0        0      0      0        0      0       0   \n...                  ...  ...      ...    ...    ...      ...    ...     ...   \nPortrait.              0    0        0      0      0        0      0       0   \nPaysan                 0    0        0      0      0        0      0       0   \nPrécieux.              0    0        0      0      0        0      0       0   \nInattendu.             0    0        0      0      0        0      0       0   \nTotal                  1    1        0      0      0        0      0       0   \n\n                   gars atmosphère  ... loutonbé chaste injures autobus jolis  \\\ntitle                               ...                                         \nNotations.            0          0  ...        0      0       0       0     0   \nEn partie double.     0          0  ...        0      0       0       0     0   \nLitotes.              0          0  ...        0      0       0       0     0   \nMétaphoriquement.     0          0  ...        0      0       0       0     0   \nRétrograde.           0          0  ...        0      0       0       0     0   \n...                 ...        ...  ...      ...    ...     ...     ...   ...   \nPortrait.             0          0  ...        0      0       0       0     0   \nPaysan                0          0  ...        0      0       0       0     0   \nPrécieux.             0          0  ...        0      0       0       0     0   \nInattendu.            0          0  ...        0      0       0       0     0   \nTotal                 0          1  ...        0      0       0      24     0   \n\n                   peehay saint-lazule fremarquai descend pieds  \ntitle                                                            \nNotations.              0            0          0       0     0  \nEn partie double.       0            0          0       0     0  \nLitotes.                0            0          0       0     0  \nMétaphoriquement.       0            0          0       0     0  \nRétrograde.             0            0          0       0     0  \n...                   ...          ...        ...     ...   ...  \nPortrait.               0            0          0       0     0  \nPaysan                  0            0          0       0     0  \nPrécieux.               0            0          0       0     0  \nInattendu.              0            0          0       0     0  \nTotal                   0            0          0       0     1  \n\n[89 rows x 563 columns]",
      "text/html": "<div>\n<style scoped>\n    .dataframe tbody tr th:only-of-type {\n        vertical-align: middle;\n    }\n\n    .dataframe tbody tr th {\n        vertical-align: top;\n    }\n\n    .dataframe thead th {\n        text-align: right;\n    }\n</style>\n<table border=\"1\" class=\"dataframe\">\n  <thead>\n    <tr style=\"text-align: right;\">\n      <th></th>\n      <th>essus</th>\n      <th>parc</th>\n      <th>tournant</th>\n      <th>genoux</th>\n      <th>hochet</th>\n      <th>parfaite</th>\n      <th>entrée</th>\n      <th>plaisir</th>\n      <th>gars</th>\n      <th>atmosphère</th>\n      <th>...</th>\n      <th>loutonbé</th>\n      <th>chaste</th>\n      <th>injures</th>\n      <th>autobus</th>\n      <th>jolis</th>\n      <th>peehay</th>\n      <th>saint-lazule</th>\n      <th>fremarquai</th>\n      <th>descend</th>\n      <th>pieds</th>\n    </tr>\n    <tr>\n      <th>title</th>\n      <th></th>\n      <th></th>\n      <th></th>\n      <th></th>\n      <th></th>\n      <th></th>\n      <th></th>\n      <th></th>\n      <th></th>\n      <th></th>\n      <th></th>\n      <th></th>\n      <th></th>\n      <th></th>\n      <th></th>\n      <th></th>\n      <th></th>\n      <th></th>\n      <th></th>\n      <th></th>\n      <th></th>\n    </tr>\n  </thead>\n  <tbody>\n    <tr>\n      <th>Notations.</th>\n      <td>0</td>\n      <td>0</td>\n      <td>0</td>\n      <td>0</td>\n      <td>0</td>\n      <td>0</td>\n      <td>0</td>\n      <td>0</td>\n      <td>0</td>\n      <td>0</td>\n      <td>...</td>\n      <td>0</td>\n      <td>0</td>\n      <td>0</td>\n      <td>0</td>\n      <td>0</td>\n      <td>0</td>\n      <td>0</td>\n      <td>0</td>\n      <td>0</td>\n      <td>0</td>\n    </tr>\n    <tr>\n      <th>En partie double.</th>\n      <td>0</td>\n      <td>0</td>\n      <td>0</td>\n      <td>0</td>\n      <td>0</td>\n      <td>0</td>\n      <td>0</td>\n      <td>0</td>\n      <td>0</td>\n      <td>0</td>\n      <td>...</td>\n      <td>0</td>\n      <td>0</td>\n      <td>0</td>\n      <td>0</td>\n      <td>0</td>\n      <td>0</td>\n      <td>0</td>\n      <td>0</td>\n      <td>0</td>\n      <td>0</td>\n    </tr>\n    <tr>\n      <th>Litotes.</th>\n      <td>0</td>\n      <td>0</td>\n      <td>0</td>\n      <td>0</td>\n      <td>0</td>\n      <td>0</td>\n      <td>0</td>\n      <td>0</td>\n      <td>0</td>\n      <td>0</td>\n      <td>...</td>\n      <td>0</td>\n      <td>0</td>\n      <td>0</td>\n      <td>0</td>\n      <td>0</td>\n      <td>0</td>\n      <td>0</td>\n      <td>0</td>\n      <td>0</td>\n      <td>0</td>\n    </tr>\n    <tr>\n      <th>Métaphoriquement.</th>\n      <td>0</td>\n      <td>0</td>\n      <td>0</td>\n      <td>0</td>\n      <td>0</td>\n      <td>0</td>\n      <td>0</td>\n      <td>0</td>\n      <td>0</td>\n      <td>0</td>\n      <td>...</td>\n      <td>0</td>\n      <td>0</td>\n      <td>0</td>\n      <td>0</td>\n      <td>0</td>\n      <td>0</td>\n      <td>0</td>\n      <td>0</td>\n      <td>0</td>\n      <td>0</td>\n    </tr>\n    <tr>\n      <th>Rétrograde.</th>\n      <td>1</td>\n      <td>0</td>\n      <td>0</td>\n      <td>0</td>\n      <td>0</td>\n      <td>0</td>\n      <td>0</td>\n      <td>0</td>\n      <td>0</td>\n      <td>0</td>\n      <td>...</td>\n      <td>0</td>\n      <td>0</td>\n      <td>0</td>\n      <td>0</td>\n      <td>0</td>\n      <td>0</td>\n      <td>0</td>\n      <td>0</td>\n      <td>0</td>\n      <td>0</td>\n    </tr>\n    <tr>\n      <th>...</th>\n      <td>...</td>\n      <td>...</td>\n      <td>...</td>\n      <td>...</td>\n      <td>...</td>\n      <td>...</td>\n      <td>...</td>\n      <td>...</td>\n      <td>...</td>\n      <td>...</td>\n      <td>...</td>\n      <td>...</td>\n      <td>...</td>\n      <td>...</td>\n      <td>...</td>\n      <td>...</td>\n      <td>...</td>\n      <td>...</td>\n      <td>...</td>\n      <td>...</td>\n      <td>...</td>\n    </tr>\n    <tr>\n      <th>Portrait.</th>\n      <td>0</td>\n      <td>0</td>\n      <td>0</td>\n      <td>0</td>\n      <td>0</td>\n      <td>0</td>\n      <td>0</td>\n      <td>0</td>\n      <td>0</td>\n      <td>0</td>\n      <td>...</td>\n      <td>0</td>\n      <td>0</td>\n      <td>0</td>\n      <td>0</td>\n      <td>0</td>\n      <td>0</td>\n      <td>0</td>\n      <td>0</td>\n      <td>0</td>\n      <td>0</td>\n    </tr>\n    <tr>\n      <th>Paysan</th>\n      <td>0</td>\n      <td>0</td>\n      <td>0</td>\n      <td>0</td>\n      <td>0</td>\n      <td>0</td>\n      <td>0</td>\n      <td>0</td>\n      <td>0</td>\n      <td>0</td>\n      <td>...</td>\n      <td>0</td>\n      <td>0</td>\n      <td>0</td>\n      <td>0</td>\n      <td>0</td>\n      <td>0</td>\n      <td>0</td>\n      <td>0</td>\n      <td>0</td>\n      <td>0</td>\n    </tr>\n    <tr>\n      <th>Précieux.</th>\n      <td>0</td>\n      <td>0</td>\n      <td>0</td>\n      <td>0</td>\n      <td>0</td>\n      <td>0</td>\n      <td>0</td>\n      <td>0</td>\n      <td>0</td>\n      <td>0</td>\n      <td>...</td>\n      <td>0</td>\n      <td>0</td>\n      <td>0</td>\n      <td>0</td>\n      <td>0</td>\n      <td>0</td>\n      <td>0</td>\n      <td>0</td>\n      <td>0</td>\n      <td>0</td>\n    </tr>\n    <tr>\n      <th>Inattendu.</th>\n      <td>0</td>\n      <td>0</td>\n      <td>0</td>\n      <td>0</td>\n      <td>0</td>\n      <td>0</td>\n      <td>0</td>\n      <td>0</td>\n      <td>0</td>\n      <td>0</td>\n      <td>...</td>\n      <td>0</td>\n      <td>0</td>\n      <td>0</td>\n      <td>0</td>\n      <td>0</td>\n      <td>0</td>\n      <td>0</td>\n      <td>0</td>\n      <td>0</td>\n      <td>0</td>\n    </tr>\n    <tr>\n      <th>Total</th>\n      <td>1</td>\n      <td>1</td>\n      <td>0</td>\n      <td>0</td>\n      <td>0</td>\n      <td>0</td>\n      <td>0</td>\n      <td>0</td>\n      <td>0</td>\n      <td>1</td>\n      <td>...</td>\n      <td>0</td>\n      <td>0</td>\n      <td>0</td>\n      <td>24</td>\n      <td>0</td>\n      <td>0</td>\n      <td>0</td>\n      <td>0</td>\n      <td>0</td>\n      <td>1</td>\n    </tr>\n  </tbody>\n</table>\n<p>89 rows × 563 columns</p>\n</div>"
     },
     "execution_count": 47,
     "metadata": {},
     "output_type": "execute_result"
    }
   ],
   "source": [
    "dict_of_dataframe_filtred[\"keyword_without_stop_word\"]"
   ],
   "metadata": {
    "collapsed": false,
    "pycharm": {
     "name": "#%%\n"
    }
   }
  },
  {
   "cell_type": "code",
   "execution_count": 48,
   "outputs": [
    {
     "data": {
      "text/plain": "dict_keys(['texte_keyword', 'keyword_without_ent', 'keyword_without_stop_word', 'keywords_lematisations'])"
     },
     "execution_count": 48,
     "metadata": {},
     "output_type": "execute_result"
    }
   ],
   "source": [
    "#visualisation de la répartitions des mots clés et initialisation d'un daframe permettant la visualisation de la répartition des mots clés.\n",
    "top_ten_dict_filtred ={}\n",
    "for key1 in dict_of_dataframe_filtred:\n",
    "    i=0\n",
    "    top_ten_dict_filtred.update({key1:pd.DataFrame(columns=[\"keys\",\"values\"])})\n",
    "\n",
    "    for key2 in dict_of_dataframe_filtred[key1].keys():\n",
    "        top_ten_dict_filtred[key1].loc[i,\"keys\"]=key2\n",
    "        top_ten_dict_filtred[key1].loc[i,\"values\"]=dict_of_dataframe_filtred[key1].loc[\"Total\"][key2]\n",
    "        i=i+1\n",
    "\n",
    "top_ten_dict_filtred.keys()"
   ],
   "metadata": {
    "collapsed": false,
    "pycharm": {
     "name": "#%%\n"
    }
   }
  },
  {
   "cell_type": "code",
   "execution_count": 49,
   "outputs": [
    {
     "data": {
      "text/plain": "             keys values\n0           essus      1\n1        tournant      0\n2          genoux      0\n3          hochet      0\n4        parfaite      0\n..            ...    ...\n495        peehay      0\n496  saint-lazule      0\n497    fremarquai      0\n498       descend      0\n499         pieds      1\n\n[500 rows x 2 columns]",
      "text/html": "<div>\n<style scoped>\n    .dataframe tbody tr th:only-of-type {\n        vertical-align: middle;\n    }\n\n    .dataframe tbody tr th {\n        vertical-align: top;\n    }\n\n    .dataframe thead th {\n        text-align: right;\n    }\n</style>\n<table border=\"1\" class=\"dataframe\">\n  <thead>\n    <tr style=\"text-align: right;\">\n      <th></th>\n      <th>keys</th>\n      <th>values</th>\n    </tr>\n  </thead>\n  <tbody>\n    <tr>\n      <th>0</th>\n      <td>essus</td>\n      <td>1</td>\n    </tr>\n    <tr>\n      <th>1</th>\n      <td>tournant</td>\n      <td>0</td>\n    </tr>\n    <tr>\n      <th>2</th>\n      <td>genoux</td>\n      <td>0</td>\n    </tr>\n    <tr>\n      <th>3</th>\n      <td>hochet</td>\n      <td>0</td>\n    </tr>\n    <tr>\n      <th>4</th>\n      <td>parfaite</td>\n      <td>0</td>\n    </tr>\n    <tr>\n      <th>...</th>\n      <td>...</td>\n      <td>...</td>\n    </tr>\n    <tr>\n      <th>495</th>\n      <td>peehay</td>\n      <td>0</td>\n    </tr>\n    <tr>\n      <th>496</th>\n      <td>saint-lazule</td>\n      <td>0</td>\n    </tr>\n    <tr>\n      <th>497</th>\n      <td>fremarquai</td>\n      <td>0</td>\n    </tr>\n    <tr>\n      <th>498</th>\n      <td>descend</td>\n      <td>0</td>\n    </tr>\n    <tr>\n      <th>499</th>\n      <td>pieds</td>\n      <td>1</td>\n    </tr>\n  </tbody>\n</table>\n<p>500 rows × 2 columns</p>\n</div>"
     },
     "execution_count": 49,
     "metadata": {},
     "output_type": "execute_result"
    }
   ],
   "source": [
    "top_ten_dict_filtred[\"keyword_without_ent\"]"
   ],
   "metadata": {
    "collapsed": false,
    "pycharm": {
     "name": "#%%\n"
    }
   }
  },
  {
   "cell_type": "code",
   "execution_count": 50,
   "outputs": [],
   "source": [
    "#Récuperation des  10 mots clés les plus représanter sous forme de list()\n",
    "for key in top_ten_dict:\n",
    "    top_ten_dict_filtred[key] =top_ten_dict_filtred[key].sort_values(\"values\",ascending=False)\n",
    "    top_ten_dict_filtred[key][:10].head()\n",
    "    top_ten_dict_filtred[key] = list(top_ten_dict_filtred[key][\"keys\"][:10])\n"
   ],
   "metadata": {
    "collapsed": false,
    "pycharm": {
     "name": "#%%\n"
    }
   }
  },
  {
   "cell_type": "code",
   "execution_count": 51,
   "outputs": [],
   "source": [
    "dict_of_vectorised_df_filtred=dict()\n",
    "for key in dict_of_dataframe_filtred:\n",
    "    dict_of_vectorised_df_filtred.update({key:pd.DataFrame(columns=[\"title\",\"vector\"])})\n",
    "    i=0\n",
    "    for index ,value in dict_of_dataframe_filtred[key].iterrows():\n",
    "        if index != \"Total\":\n",
    "            dict_of_vectorised_df_filtred[key].loc[i,\"title\"]=index\n",
    "            dict_of_vectorised_df_filtred[key].loc[i,\"vector\"]=list(value)\n",
    "            i= i+1\n",
    "        else:\n",
    "            pass\n"
   ],
   "metadata": {
    "collapsed": false,
    "pycharm": {
     "name": "#%%\n"
    }
   }
  },
  {
   "cell_type": "code",
   "execution_count": 52,
   "outputs": [
    {
     "data": {
      "text/plain": "                 title                                             vector\n0           Notations.  [0, 0, 0, 0, 0, 0, 0, 0, 0, 0, 0, 0, 0, 0, 0, ...\n1   En partie double.   [0, 0, 0, 0, 0, 0, 0, 0, 0, 0, 0, 0, 0, 0, 0, ...\n2            Litotes.   [0, 0, 0, 0, 0, 0, 0, 0, 0, 0, 0, 0, 0, 0, 0, ...\n3    Métaphoriquement.  [0, 0, 0, 0, 0, 0, 0, 0, 0, 0, 0, 0, 0, 0, 0, ...\n4         Rétrograde.   [1, 0, 0, 0, 0, 0, 0, 0, 0, 0, 0, 0, 0, 0, 0, ...\n..                 ...                                                ...\n83        Probabiliste  [0, 0, 0, 0, 0, 0, 0, 0, 0, 0, 0, 0, 0, 0, 0, ...\n84          Portrait.   [0, 0, 0, 0, 0, 0, 0, 0, 0, 0, 0, 0, 0, 0, 0, ...\n85             Paysan   [0, 0, 0, 0, 0, 0, 0, 0, 0, 0, 0, 0, 0, 0, 0, ...\n86          Précieux.   [0, 0, 0, 0, 0, 0, 0, 0, 0, 0, 0, 0, 0, 0, 0, ...\n87         Inattendu.   [0, 0, 0, 0, 0, 0, 0, 0, 0, 0, 0, 0, 0, 0, 0, ...\n\n[88 rows x 2 columns]",
      "text/html": "<div>\n<style scoped>\n    .dataframe tbody tr th:only-of-type {\n        vertical-align: middle;\n    }\n\n    .dataframe tbody tr th {\n        vertical-align: top;\n    }\n\n    .dataframe thead th {\n        text-align: right;\n    }\n</style>\n<table border=\"1\" class=\"dataframe\">\n  <thead>\n    <tr style=\"text-align: right;\">\n      <th></th>\n      <th>title</th>\n      <th>vector</th>\n    </tr>\n  </thead>\n  <tbody>\n    <tr>\n      <th>0</th>\n      <td>Notations.</td>\n      <td>[0, 0, 0, 0, 0, 0, 0, 0, 0, 0, 0, 0, 0, 0, 0, ...</td>\n    </tr>\n    <tr>\n      <th>1</th>\n      <td>En partie double.</td>\n      <td>[0, 0, 0, 0, 0, 0, 0, 0, 0, 0, 0, 0, 0, 0, 0, ...</td>\n    </tr>\n    <tr>\n      <th>2</th>\n      <td>Litotes.</td>\n      <td>[0, 0, 0, 0, 0, 0, 0, 0, 0, 0, 0, 0, 0, 0, 0, ...</td>\n    </tr>\n    <tr>\n      <th>3</th>\n      <td>Métaphoriquement.</td>\n      <td>[0, 0, 0, 0, 0, 0, 0, 0, 0, 0, 0, 0, 0, 0, 0, ...</td>\n    </tr>\n    <tr>\n      <th>4</th>\n      <td>Rétrograde.</td>\n      <td>[1, 0, 0, 0, 0, 0, 0, 0, 0, 0, 0, 0, 0, 0, 0, ...</td>\n    </tr>\n    <tr>\n      <th>...</th>\n      <td>...</td>\n      <td>...</td>\n    </tr>\n    <tr>\n      <th>83</th>\n      <td>Probabiliste</td>\n      <td>[0, 0, 0, 0, 0, 0, 0, 0, 0, 0, 0, 0, 0, 0, 0, ...</td>\n    </tr>\n    <tr>\n      <th>84</th>\n      <td>Portrait.</td>\n      <td>[0, 0, 0, 0, 0, 0, 0, 0, 0, 0, 0, 0, 0, 0, 0, ...</td>\n    </tr>\n    <tr>\n      <th>85</th>\n      <td>Paysan</td>\n      <td>[0, 0, 0, 0, 0, 0, 0, 0, 0, 0, 0, 0, 0, 0, 0, ...</td>\n    </tr>\n    <tr>\n      <th>86</th>\n      <td>Précieux.</td>\n      <td>[0, 0, 0, 0, 0, 0, 0, 0, 0, 0, 0, 0, 0, 0, 0, ...</td>\n    </tr>\n    <tr>\n      <th>87</th>\n      <td>Inattendu.</td>\n      <td>[0, 0, 0, 0, 0, 0, 0, 0, 0, 0, 0, 0, 0, 0, 0, ...</td>\n    </tr>\n  </tbody>\n</table>\n<p>88 rows × 2 columns</p>\n</div>"
     },
     "execution_count": 52,
     "metadata": {},
     "output_type": "execute_result"
    }
   ],
   "source": [
    "dict_of_vectorised_df_filtred[\"texte_keyword\"]"
   ],
   "metadata": {
    "collapsed": false,
    "pycharm": {
     "name": "#%%\n"
    }
   }
  },
  {
   "cell_type": "code",
   "execution_count": 53,
   "outputs": [
    {
     "data": {
      "text/plain": "dict_keys(['texte_keyword', 'keyword_without_ent', 'keyword_without_stop_word', 'keywords_lematisations'])"
     },
     "execution_count": 53,
     "metadata": {},
     "output_type": "execute_result"
    }
   ],
   "source": [
    "dict_of_texte_corélation_df =dict()\n",
    "for key in dict_of_vectorised_df_filtred:\n",
    "    dict_of_texte_corélation_df.update({key:pd.DataFrame()})\n",
    "    for index1 , rows1 in dict_of_vectorised_df_filtred[key].iterrows():\n",
    "        vector1 = np.array(rows1[\"vector\"])\n",
    "        for index2, rows2 in dict_of_vectorised_df_filtred[key].iterrows():\n",
    "            vector2 = np.array(rows2[\"vector\"])\n",
    "            dict_of_texte_corélation_df[key].loc[rows1[\"title\"],rows2[\"title\"]]= np.dot(vector1, vector2, out=None)\n",
    "dict_of_vectorised_df_filtred.keys()"
   ],
   "metadata": {
    "collapsed": false,
    "pycharm": {
     "name": "#%%\n"
    }
   }
  },
  {
   "cell_type": "code",
   "execution_count": 54,
   "outputs": [
    {
     "data": {
      "text/plain": "                    Notations.  En partie double.   Litotes.   \\\nNotations.                 3.0                 0.0        0.0   \nEn partie double.          0.0                 3.0        0.0   \nLitotes.                   0.0                 0.0        1.0   \nMétaphoriquement.          0.0                 1.0        0.0   \nRétrograde.                0.0                 0.0        0.0   \n...                        ...                 ...        ...   \nProbabiliste               0.0                 0.0        0.0   \nPortrait.                  0.0                 0.0        0.0   \nPaysan                     0.0                 0.0        0.0   \nPrécieux.                  0.0                 1.0        0.0   \nInattendu.                 0.0                 0.0        0.0   \n\n                    Métaphoriquement.  Rétrograde.   Surprises.  Rêve. \\n  \\\nNotations.                        0.0           0.0         0.0       0.0   \nEn partie double.                 1.0           0.0         0.0       0.0   \nLitotes.                          0.0           0.0         0.0       0.0   \nMétaphoriquement.                 1.0           0.0         0.0       0.0   \nRétrograde.                       0.0           3.0         0.0       0.0   \n...                               ...           ...         ...       ...   \nProbabiliste                      0.0           0.0         0.0       0.0   \nPortrait.                         0.0           0.0         0.0       0.0   \nPaysan                            0.0           0.0         0.0       0.0   \nPrécieux.                         0.0           0.0         0.0       0.0   \nInattendu.                        0.0           0.0         0.0       0.0   \n\n                    Pronostication.   Synchyses.   L'arc-en-ciel  ...  \\\nNotations.                       0.0          0.0            0.0  ...   \nEn partie double.                1.0          0.0            1.0  ...   \nLitotes.                         0.0          0.0            0.0  ...   \nMétaphoriquement.                0.0          0.0            1.0  ...   \nRétrograde.                      0.0          0.0            0.0  ...   \n...                              ...          ...            ...  ...   \nProbabiliste                     0.0          0.0            0.0  ...   \nPortrait.                        0.0          0.0            0.0  ...   \nPaysan                           0.0          0.0            0.0  ...   \nPrécieux.                        1.0          0.0            0.0  ...   \nInattendu.                       0.0          0.0            0.0  ...   \n\n                    Injurieux.   Gastronomique.   Zoologique.   Impuissant.   \\\nNotations.                  0.0              0.0           1.0           0.0   \nEn partie double.           0.0              0.0           0.0           0.0   \nLitotes.                    0.0              0.0           0.0           0.0   \nMétaphoriquement.           0.0              0.0           0.0           0.0   \nRétrograde.                 0.0              0.0           0.0           0.0   \n...                         ...              ...           ...           ...   \nProbabiliste                0.0              0.0           0.0           0.0   \nPortrait.                   0.0              0.0           0.0           0.0   \nPaysan                      0.0              0.0           0.0           0.0   \nPrécieux.                   0.0              0.0           0.0           0.0   \nInattendu.                  0.0              0.0           0.0           0.0   \n\n                    Modern style.  Probabiliste  Portrait.   Paysan   \\\nNotations.                    0.0           0.0         0.0      0.0   \nEn partie double.             2.0           0.0         0.0      0.0   \nLitotes.                      0.0           0.0         0.0      0.0   \nMétaphoriquement.             1.0           0.0         0.0      0.0   \nRétrograde.                   0.0           0.0         0.0      0.0   \n...                           ...           ...         ...      ...   \nProbabiliste                  0.0           5.0         0.0      0.0   \nPortrait.                     0.0           0.0         3.0      0.0   \nPaysan                        0.0           0.0         0.0      1.0   \nPrécieux.                     1.0           0.0         0.0      0.0   \nInattendu.                    0.0           0.0         0.0      0.0   \n\n                    Précieux.   Inattendu.   \nNotations.                 0.0          0.0  \nEn partie double.          1.0          0.0  \nLitotes.                   0.0          0.0  \nMétaphoriquement.          0.0          0.0  \nRétrograde.                0.0          0.0  \n...                        ...          ...  \nProbabiliste               0.0          0.0  \nPortrait.                  0.0          0.0  \nPaysan                     0.0          0.0  \nPrécieux.                  1.0          0.0  \nInattendu.                 0.0          3.0  \n\n[88 rows x 88 columns]",
      "text/html": "<div>\n<style scoped>\n    .dataframe tbody tr th:only-of-type {\n        vertical-align: middle;\n    }\n\n    .dataframe tbody tr th {\n        vertical-align: top;\n    }\n\n    .dataframe thead th {\n        text-align: right;\n    }\n</style>\n<table border=\"1\" class=\"dataframe\">\n  <thead>\n    <tr style=\"text-align: right;\">\n      <th></th>\n      <th>Notations.</th>\n      <th>En partie double.</th>\n      <th>Litotes.</th>\n      <th>Métaphoriquement.</th>\n      <th>Rétrograde.</th>\n      <th>Surprises.</th>\n      <th>Rêve. \\n</th>\n      <th>Pronostication.</th>\n      <th>Synchyses.</th>\n      <th>L'arc-en-ciel</th>\n      <th>...</th>\n      <th>Injurieux.</th>\n      <th>Gastronomique.</th>\n      <th>Zoologique.</th>\n      <th>Impuissant.</th>\n      <th>Modern style.</th>\n      <th>Probabiliste</th>\n      <th>Portrait.</th>\n      <th>Paysan</th>\n      <th>Précieux.</th>\n      <th>Inattendu.</th>\n    </tr>\n  </thead>\n  <tbody>\n    <tr>\n      <th>Notations.</th>\n      <td>3.0</td>\n      <td>0.0</td>\n      <td>0.0</td>\n      <td>0.0</td>\n      <td>0.0</td>\n      <td>0.0</td>\n      <td>0.0</td>\n      <td>0.0</td>\n      <td>0.0</td>\n      <td>0.0</td>\n      <td>...</td>\n      <td>0.0</td>\n      <td>0.0</td>\n      <td>1.0</td>\n      <td>0.0</td>\n      <td>0.0</td>\n      <td>0.0</td>\n      <td>0.0</td>\n      <td>0.0</td>\n      <td>0.0</td>\n      <td>0.0</td>\n    </tr>\n    <tr>\n      <th>En partie double.</th>\n      <td>0.0</td>\n      <td>3.0</td>\n      <td>0.0</td>\n      <td>1.0</td>\n      <td>0.0</td>\n      <td>0.0</td>\n      <td>0.0</td>\n      <td>1.0</td>\n      <td>0.0</td>\n      <td>1.0</td>\n      <td>...</td>\n      <td>0.0</td>\n      <td>0.0</td>\n      <td>0.0</td>\n      <td>0.0</td>\n      <td>2.0</td>\n      <td>0.0</td>\n      <td>0.0</td>\n      <td>0.0</td>\n      <td>1.0</td>\n      <td>0.0</td>\n    </tr>\n    <tr>\n      <th>Litotes.</th>\n      <td>0.0</td>\n      <td>0.0</td>\n      <td>1.0</td>\n      <td>0.0</td>\n      <td>0.0</td>\n      <td>0.0</td>\n      <td>0.0</td>\n      <td>0.0</td>\n      <td>0.0</td>\n      <td>0.0</td>\n      <td>...</td>\n      <td>0.0</td>\n      <td>0.0</td>\n      <td>0.0</td>\n      <td>0.0</td>\n      <td>0.0</td>\n      <td>0.0</td>\n      <td>0.0</td>\n      <td>0.0</td>\n      <td>0.0</td>\n      <td>0.0</td>\n    </tr>\n    <tr>\n      <th>Métaphoriquement.</th>\n      <td>0.0</td>\n      <td>1.0</td>\n      <td>0.0</td>\n      <td>1.0</td>\n      <td>0.0</td>\n      <td>0.0</td>\n      <td>0.0</td>\n      <td>0.0</td>\n      <td>0.0</td>\n      <td>1.0</td>\n      <td>...</td>\n      <td>0.0</td>\n      <td>0.0</td>\n      <td>0.0</td>\n      <td>0.0</td>\n      <td>1.0</td>\n      <td>0.0</td>\n      <td>0.0</td>\n      <td>0.0</td>\n      <td>0.0</td>\n      <td>0.0</td>\n    </tr>\n    <tr>\n      <th>Rétrograde.</th>\n      <td>0.0</td>\n      <td>0.0</td>\n      <td>0.0</td>\n      <td>0.0</td>\n      <td>3.0</td>\n      <td>0.0</td>\n      <td>0.0</td>\n      <td>0.0</td>\n      <td>0.0</td>\n      <td>0.0</td>\n      <td>...</td>\n      <td>0.0</td>\n      <td>0.0</td>\n      <td>0.0</td>\n      <td>0.0</td>\n      <td>0.0</td>\n      <td>0.0</td>\n      <td>0.0</td>\n      <td>0.0</td>\n      <td>0.0</td>\n      <td>0.0</td>\n    </tr>\n    <tr>\n      <th>...</th>\n      <td>...</td>\n      <td>...</td>\n      <td>...</td>\n      <td>...</td>\n      <td>...</td>\n      <td>...</td>\n      <td>...</td>\n      <td>...</td>\n      <td>...</td>\n      <td>...</td>\n      <td>...</td>\n      <td>...</td>\n      <td>...</td>\n      <td>...</td>\n      <td>...</td>\n      <td>...</td>\n      <td>...</td>\n      <td>...</td>\n      <td>...</td>\n      <td>...</td>\n      <td>...</td>\n    </tr>\n    <tr>\n      <th>Probabiliste</th>\n      <td>0.0</td>\n      <td>0.0</td>\n      <td>0.0</td>\n      <td>0.0</td>\n      <td>0.0</td>\n      <td>0.0</td>\n      <td>0.0</td>\n      <td>0.0</td>\n      <td>0.0</td>\n      <td>0.0</td>\n      <td>...</td>\n      <td>0.0</td>\n      <td>0.0</td>\n      <td>0.0</td>\n      <td>0.0</td>\n      <td>0.0</td>\n      <td>5.0</td>\n      <td>0.0</td>\n      <td>0.0</td>\n      <td>0.0</td>\n      <td>0.0</td>\n    </tr>\n    <tr>\n      <th>Portrait.</th>\n      <td>0.0</td>\n      <td>0.0</td>\n      <td>0.0</td>\n      <td>0.0</td>\n      <td>0.0</td>\n      <td>0.0</td>\n      <td>0.0</td>\n      <td>0.0</td>\n      <td>0.0</td>\n      <td>0.0</td>\n      <td>...</td>\n      <td>0.0</td>\n      <td>0.0</td>\n      <td>0.0</td>\n      <td>0.0</td>\n      <td>0.0</td>\n      <td>0.0</td>\n      <td>3.0</td>\n      <td>0.0</td>\n      <td>0.0</td>\n      <td>0.0</td>\n    </tr>\n    <tr>\n      <th>Paysan</th>\n      <td>0.0</td>\n      <td>0.0</td>\n      <td>0.0</td>\n      <td>0.0</td>\n      <td>0.0</td>\n      <td>0.0</td>\n      <td>0.0</td>\n      <td>0.0</td>\n      <td>0.0</td>\n      <td>0.0</td>\n      <td>...</td>\n      <td>0.0</td>\n      <td>0.0</td>\n      <td>0.0</td>\n      <td>0.0</td>\n      <td>0.0</td>\n      <td>0.0</td>\n      <td>0.0</td>\n      <td>1.0</td>\n      <td>0.0</td>\n      <td>0.0</td>\n    </tr>\n    <tr>\n      <th>Précieux.</th>\n      <td>0.0</td>\n      <td>1.0</td>\n      <td>0.0</td>\n      <td>0.0</td>\n      <td>0.0</td>\n      <td>0.0</td>\n      <td>0.0</td>\n      <td>1.0</td>\n      <td>0.0</td>\n      <td>0.0</td>\n      <td>...</td>\n      <td>0.0</td>\n      <td>0.0</td>\n      <td>0.0</td>\n      <td>0.0</td>\n      <td>1.0</td>\n      <td>0.0</td>\n      <td>0.0</td>\n      <td>0.0</td>\n      <td>1.0</td>\n      <td>0.0</td>\n    </tr>\n    <tr>\n      <th>Inattendu.</th>\n      <td>0.0</td>\n      <td>0.0</td>\n      <td>0.0</td>\n      <td>0.0</td>\n      <td>0.0</td>\n      <td>0.0</td>\n      <td>0.0</td>\n      <td>0.0</td>\n      <td>0.0</td>\n      <td>0.0</td>\n      <td>...</td>\n      <td>0.0</td>\n      <td>0.0</td>\n      <td>0.0</td>\n      <td>0.0</td>\n      <td>0.0</td>\n      <td>0.0</td>\n      <td>0.0</td>\n      <td>0.0</td>\n      <td>0.0</td>\n      <td>3.0</td>\n    </tr>\n  </tbody>\n</table>\n<p>88 rows × 88 columns</p>\n</div>"
     },
     "execution_count": 54,
     "metadata": {},
     "output_type": "execute_result"
    }
   ],
   "source": [
    "dict_of_texte_corélation_df[\"texte_keyword\"]"
   ],
   "metadata": {
    "collapsed": false,
    "pycharm": {
     "name": "#%%\n"
    }
   }
  },
  {
   "cell_type": "code",
   "execution_count": 55,
   "outputs": [
    {
     "name": "stdout",
     "output_type": "stream",
     "text": [
      "texte_keyword\n",
      "Ode                      103.0\n",
      "Analyse logique.         100.0\n",
      "Insistance.               79.0\n",
      "Interrogatoire.           68.0\n",
      "Apartés.                  67.0\n",
      "                         ...  \n",
      "Parties du discours.       0.0\n",
      "Maladroit.                 0.0\n",
      "Désinvolte. \\n             0.0\n",
      "Olfactif                   0.0\n",
      "Paréchèses.                0.0\n",
      "Length: 88, dtype: float64\n",
      "\r\n",
      "keyword_without_ent\n",
      "Ode                      103.0\n",
      "Analyse logique.         100.0\n",
      "Insistance.               79.0\n",
      "Interrogatoire.           68.0\n",
      "Apartés.                  67.0\n",
      "                         ...  \n",
      "Parties du discours.       0.0\n",
      "Maladroit.                 0.0\n",
      "Désinvolte. \\n             0.0\n",
      "Olfactif                   0.0\n",
      "Paréchèses.                0.0\n",
      "Length: 88, dtype: float64\n",
      "\r\n",
      "keyword_without_stop_word\n",
      "Ode                      103.0\n",
      "Analyse logique.         100.0\n",
      "Insistance.               79.0\n",
      "Interrogatoire.           68.0\n",
      "Apartés.                  67.0\n",
      "                         ...  \n",
      "Parties du discours.       0.0\n",
      "Maladroit.                 0.0\n",
      "Désinvolte. \\n             0.0\n",
      "Olfactif                   0.0\n",
      "Paréchèses.                0.0\n",
      "Length: 88, dtype: float64\n",
      "\r\n",
      "keywords_lematisations\n",
      "Insistance.         52.0\n",
      "Paragoges           52.0\n",
      "Prosthèses          50.0\n",
      "Ode                 49.0\n",
      "Analyse logique.    46.0\n",
      "                    ... \n",
      "Fantomatique. \\n     0.0\n",
      "Maladroit.           0.0\n",
      "Auditif.             0.0\n",
      "Désinvolte. \\n       0.0\n",
      "Hésitations.         0.0\n",
      "Length: 87, dtype: float64\n",
      "\r\n"
     ]
    }
   ],
   "source": [
    "for key in dict_of_texte_corélation_df :\n",
    "    s = dict_of_texte_corélation_df[key].sum()\n",
    "    s=s.sort_values(ascending=False)\n",
    "    print(key)\n",
    "    print(s)\n",
    "    print(\"\\r\")\n",
    "\n",
    "\n"
   ],
   "metadata": {
    "collapsed": false,
    "pycharm": {
     "name": "#%%\n"
    }
   }
  },
  {
   "cell_type": "code",
   "execution_count": 56,
   "outputs": [
    {
     "name": "stdout",
     "output_type": "stream",
     "text": [
      "addition de texte_keywordl'ensemble des ressamblance: 2080.0\n",
      "addition de keyword_without_entl'ensemble des ressamblance: 2072.0\n",
      "addition de keyword_without_stop_wordl'ensemble des ressamblance: 2080.0\n",
      "addition de keywords_lematisationsl'ensemble des ressamblance: 1411.0\n"
     ]
    }
   ],
   "source": [
    "for key in dict_of_texte_corélation_df :\n",
    "     print(\"addition de \"+key+\"l'ensemble des ressamblance: \"+str(dict_of_texte_corélation_df[key].sum().sum()))\n"
   ],
   "metadata": {
    "collapsed": false,
    "pycharm": {
     "name": "#%%\n"
    }
   }
  }
 ],
 "metadata": {
  "kernelspec": {
   "display_name": "Python 3",
   "language": "python",
   "name": "python3"
  },
  "language_info": {
   "codemirror_mode": {
    "name": "ipython",
    "version": 2
   },
   "file_extension": ".py",
   "mimetype": "text/x-python",
   "name": "python",
   "nbconvert_exporter": "python",
   "pygments_lexer": "ipython2",
   "version": "2.7.6"
  }
 },
 "nbformat": 4,
 "nbformat_minor": 0
}