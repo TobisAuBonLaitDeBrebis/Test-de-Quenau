{
 "cells": [
  {
   "cell_type": "code",
   "execution_count": 1,
   "outputs": [],
   "source": [
    "import pandas as pd\n",
    "import numpy as np\n",
    "from numpy.linalg import norm"
   ],
   "metadata": {
    "collapsed": false,
    "pycharm": {
     "name": "#%%\n"
    }
   }
  },
  {
   "cell_type": "code",
   "execution_count": 2,
   "outputs": [
    {
     "data": {
      "text/plain": "                title                                              texte\n0          Notations.  Dans l'S, à une heure d'affluence. Un type dan...\n1  En partie double.   Vers le milieu de la journée et à midi, je me ...\n2           Litotes.   Nous étions quelques-uns à nous déplacer de co...\n3   Métaphoriquement.  Au centre du jour, jeté dans le tas des sardin...\n4        Rétrograde.   Tu devrais ajouter un bouton à ton pardessus, ...",
      "text/html": "<div>\n<style scoped>\n    .dataframe tbody tr th:only-of-type {\n        vertical-align: middle;\n    }\n\n    .dataframe tbody tr th {\n        vertical-align: top;\n    }\n\n    .dataframe thead th {\n        text-align: right;\n    }\n</style>\n<table border=\"1\" class=\"dataframe\">\n  <thead>\n    <tr style=\"text-align: right;\">\n      <th></th>\n      <th>title</th>\n      <th>texte</th>\n    </tr>\n  </thead>\n  <tbody>\n    <tr>\n      <th>0</th>\n      <td>Notations.</td>\n      <td>Dans l'S, à une heure d'affluence. Un type dan...</td>\n    </tr>\n    <tr>\n      <th>1</th>\n      <td>En partie double.</td>\n      <td>Vers le milieu de la journée et à midi, je me ...</td>\n    </tr>\n    <tr>\n      <th>2</th>\n      <td>Litotes.</td>\n      <td>Nous étions quelques-uns à nous déplacer de co...</td>\n    </tr>\n    <tr>\n      <th>3</th>\n      <td>Métaphoriquement.</td>\n      <td>Au centre du jour, jeté dans le tas des sardin...</td>\n    </tr>\n    <tr>\n      <th>4</th>\n      <td>Rétrograde.</td>\n      <td>Tu devrais ajouter un bouton à ton pardessus, ...</td>\n    </tr>\n  </tbody>\n</table>\n</div>"
     },
     "execution_count": 2,
     "metadata": {},
     "output_type": "execute_result"
    }
   ],
   "source": [
    "#récupérations de données  textes de quenau brut  sans modifications\n",
    "import os\n",
    "from utils.definitions import ROOT_DIR\n",
    "df = pd.read_csv(os.path.join(ROOT_DIR, 'Data', 'queneau_fr.csv'))\n",
    "df.head()"
   ],
   "metadata": {
    "collapsed": false,
    "pycharm": {
     "name": "#%%\n"
    }
   }
  },
  {
   "cell_type": "code",
   "execution_count": 3,
   "outputs": [
    {
     "name": "stderr",
     "output_type": "stream",
     "text": [
      "c:\\users\\le muletier\\pycharmprojects\\test-de-quenaud\\venv\\lib\\site-packages\\sklearn\\utils\\deprecation.py:87: FutureWarning: Function get_feature_names is deprecated; get_feature_names is deprecated in 1.0 and will be removed in 1.2. Please use get_feature_names_out instead.\n",
      "  warnings.warn(msg, category=FutureWarning)\n"
     ]
    }
   ],
   "source": [
    "#Créations d'un vecteur pour chaque déclinaison.\n",
    "from sklearn.feature_extraction.text import CountVectorizer\n",
    "corpus=df[\"texte\"].to_list()\n",
    "vectorizer = CountVectorizer()\n",
    "X = vectorizer.fit_transform(corpus)\n",
    "vectorizer.get_feature_names()\n",
    "vectorized_corpus= X.toarray()"
   ],
   "metadata": {
    "collapsed": false,
    "pycharm": {
     "name": "#%%\n"
    }
   }
  },
  {
   "cell_type": "code",
   "execution_count": 4,
   "outputs": [
    {
     "data": {
      "text/plain": "              title                                              texte  \\\n0        Notations.  Dans l'S, à une heure d'affluence. Un type dan...   \n67   Translation \\n  Dans l'Y, en un hexagone d'affouragement. Un t...   \n9     L'arc-en-ciel  Un jour, je me trouvai sur la plate-forme d'un...   \n30    Passé simple.  Ce fut midi. Les voyageurs montèrent dans l'au...   \n31      Imparfait.   C'était midi. Les voyageurs montaient dans l'a...   \n88  Gastronomique.   Après une attente gratinée sous un soleil au b...   \n18       Animisme.   Un chapeau mou, brun, fendu, les bords baissés...   \n6          Rêve. \\n  Il me semblait que tout fût brumeux et nacré a...   \n19      Anagrammes.  Dans l’S à une rhuee d’effluenca un pety dabs ...   \n44        Apartés.   L'autobus arriva tout gonflé de voyageurs. Pou...   \n\n   simple_corrélation_cosinus  \n0                         1.0  \n67                   0.722696  \n9                     0.54909  \n30                   0.516299  \n31                   0.514364  \n88                   0.513538  \n18                   0.511163  \n6                    0.504523  \n19                   0.501887  \n44                   0.489994  ",
      "text/html": "<div>\n<style scoped>\n    .dataframe tbody tr th:only-of-type {\n        vertical-align: middle;\n    }\n\n    .dataframe tbody tr th {\n        vertical-align: top;\n    }\n\n    .dataframe thead th {\n        text-align: right;\n    }\n</style>\n<table border=\"1\" class=\"dataframe\">\n  <thead>\n    <tr style=\"text-align: right;\">\n      <th></th>\n      <th>title</th>\n      <th>texte</th>\n      <th>simple_corrélation_cosinus</th>\n    </tr>\n  </thead>\n  <tbody>\n    <tr>\n      <th>0</th>\n      <td>Notations.</td>\n      <td>Dans l'S, à une heure d'affluence. Un type dan...</td>\n      <td>1.0</td>\n    </tr>\n    <tr>\n      <th>67</th>\n      <td>Translation \\n</td>\n      <td>Dans l'Y, en un hexagone d'affouragement. Un t...</td>\n      <td>0.722696</td>\n    </tr>\n    <tr>\n      <th>9</th>\n      <td>L'arc-en-ciel</td>\n      <td>Un jour, je me trouvai sur la plate-forme d'un...</td>\n      <td>0.54909</td>\n    </tr>\n    <tr>\n      <th>30</th>\n      <td>Passé simple.</td>\n      <td>Ce fut midi. Les voyageurs montèrent dans l'au...</td>\n      <td>0.516299</td>\n    </tr>\n    <tr>\n      <th>31</th>\n      <td>Imparfait.</td>\n      <td>C'était midi. Les voyageurs montaient dans l'a...</td>\n      <td>0.514364</td>\n    </tr>\n    <tr>\n      <th>88</th>\n      <td>Gastronomique.</td>\n      <td>Après une attente gratinée sous un soleil au b...</td>\n      <td>0.513538</td>\n    </tr>\n    <tr>\n      <th>18</th>\n      <td>Animisme.</td>\n      <td>Un chapeau mou, brun, fendu, les bords baissés...</td>\n      <td>0.511163</td>\n    </tr>\n    <tr>\n      <th>6</th>\n      <td>Rêve. \\n</td>\n      <td>Il me semblait que tout fût brumeux et nacré a...</td>\n      <td>0.504523</td>\n    </tr>\n    <tr>\n      <th>19</th>\n      <td>Anagrammes.</td>\n      <td>Dans l’S à une rhuee d’effluenca un pety dabs ...</td>\n      <td>0.501887</td>\n    </tr>\n    <tr>\n      <th>44</th>\n      <td>Apartés.</td>\n      <td>L'autobus arriva tout gonflé de voyageurs. Pou...</td>\n      <td>0.489994</td>\n    </tr>\n  </tbody>\n</table>\n</div>"
     },
     "execution_count": 4,
     "metadata": {},
     "output_type": "execute_result"
    }
   ],
   "source": [
    "# caclul et strockage dans un dataframe de la corrélation cosinus entre le premier textes de Quenau et les autre document présent dans le corpus\n",
    "df[\"simple_corrélation_cosinus\"]=\"\"\n",
    "for index , row in df.iterrows():\n",
    "    row[\"simple_corrélation_cosinus\"]=np.dot(vectorized_corpus[0],vectorized_corpus[index])/(norm(vectorized_corpus[0])*norm(vectorized_corpus[index]))\n",
    "df = df.sort_values(by='simple_corrélation_cosinus',ascending=False)\n",
    "df.head(10)\n"
   ],
   "metadata": {
    "collapsed": false,
    "pycharm": {
     "name": "#%%\n"
    }
   }
  },
  {
   "cell_type": "code",
   "execution_count": 5,
   "outputs": [],
   "source": [
    "df.to_csv(os.path.join(ROOT_DIR, 'Data', 'SIMPLE_Keyword_corrélation.csv'))"
   ],
   "metadata": {
    "collapsed": false,
    "pycharm": {
     "name": "#%%\n"
    }
   }
  },
  {
   "cell_type": "code",
   "execution_count": 5,
   "outputs": [],
   "source": [],
   "metadata": {
    "collapsed": false,
    "pycharm": {
     "name": "#%%\n"
    }
   }
  }
 ],
 "metadata": {
  "kernelspec": {
   "display_name": "Python 3",
   "language": "python",
   "name": "python3"
  },
  "language_info": {
   "codemirror_mode": {
    "name": "ipython",
    "version": 2
   },
   "file_extension": ".py",
   "mimetype": "text/x-python",
   "name": "python",
   "nbconvert_exporter": "python",
   "pygments_lexer": "ipython2",
   "version": "2.7.6"
  }
 },
 "nbformat": 4,
 "nbformat_minor": 0
}